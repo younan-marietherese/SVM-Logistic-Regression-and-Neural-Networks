{
 "cells": [
  {
   "cell_type": "markdown",
   "metadata": {
    "id": "tBQCUj6xNfYO"
   },
   "source": [
    "# SVM, Logistic Regression and Neural Networks\n"
   ]
  },
  {
   "cell_type": "markdown",
   "metadata": {
    "id": "xHiRpOOWNfYP"
   },
   "source": [
    "## Exercise 1: Logistic Regression"
   ]
  },
  {
   "cell_type": "markdown",
   "metadata": {
    "id": "P0OWZU2BNfYP"
   },
   "source": [
    "In this exercise, your goal is to build a multi-class logistic regression classifier that can predict the label of a\n",
    "given tweet."
   ]
  },
  {
   "cell_type": "markdown",
   "metadata": {
    "id": "gAda01zSNfYP"
   },
   "source": [
    "## Import Libraries"
   ]
  },
  {
   "cell_type": "code",
   "execution_count": 1,
   "metadata": {
    "id": "cMjbzNBFNfYQ",
    "outputId": "0423cf72-e9b0-44de-b58d-20640ddebc14"
   },
   "outputs": [
    {
     "name": "stderr",
     "output_type": "stream",
     "text": [
      "[nltk_data] Downloading package stopwords to\n",
      "[nltk_data]     C:\\Users\\Toshiba\\AppData\\Roaming\\nltk_data...\n",
      "[nltk_data]   Package stopwords is already up-to-date!\n",
      "[nltk_data] Downloading package punkt to\n",
      "[nltk_data]     C:\\Users\\Toshiba\\AppData\\Roaming\\nltk_data...\n",
      "[nltk_data]   Package punkt is already up-to-date!\n"
     ]
    },
    {
     "data": {
      "text/plain": [
       "True"
      ]
     },
     "execution_count": 1,
     "metadata": {},
     "output_type": "execute_result"
    }
   ],
   "source": [
    "import nltk\n",
    "import sklearn\n",
    "import numpy as np\n",
    "import pandas as pd\n",
    "import pickle\n",
    "import matplotlib.pyplot as plt\n",
    "\n",
    "from sklearn.model_selection import train_test_split\n",
    "from sklearn.feature_extraction.text import CountVectorizer\n",
    "from sklearn.model_selection import learning_curve\n",
    "from sklearn.feature_extraction.text import TfidfVectorizer\n",
    "from sklearn.metrics import f1_score\n",
    "from sklearn.metrics import accuracy_score\n",
    "from sklearn.preprocessing import LabelEncoder, OneHotEncoder\n",
    "from sklearn.linear_model import LogisticRegression\n",
    "\n",
    "from nltk.corpus import stopwords\n",
    "from nltk.tokenize import word_tokenize\n",
    "from nltk.stem import PorterStemmer\n",
    "nltk.download('stopwords')\n",
    "nltk.download('punkt')"
   ]
  },
  {
   "cell_type": "markdown",
   "metadata": {
    "id": "whXLrCwSNfYR"
   },
   "source": [
    "## Load Data"
   ]
  },
  {
   "cell_type": "code",
   "execution_count": 2,
   "metadata": {
    "id": "N1AtTO4LNfYR",
    "outputId": "dac44b7b-bc1e-46bf-d29e-9ea6c035ea1b"
   },
   "outputs": [
    {
     "data": {
      "text/html": [
       "<div>\n",
       "<style scoped>\n",
       "    .dataframe tbody tr th:only-of-type {\n",
       "        vertical-align: middle;\n",
       "    }\n",
       "\n",
       "    .dataframe tbody tr th {\n",
       "        vertical-align: top;\n",
       "    }\n",
       "\n",
       "    .dataframe thead th {\n",
       "        text-align: right;\n",
       "    }\n",
       "</style>\n",
       "<table border=\"1\" class=\"dataframe\">\n",
       "  <thead>\n",
       "    <tr style=\"text-align: right;\">\n",
       "      <th></th>\n",
       "      <th>airline_sentiment</th>\n",
       "      <th>text</th>\n",
       "    </tr>\n",
       "  </thead>\n",
       "  <tbody>\n",
       "    <tr>\n",
       "      <th>0</th>\n",
       "      <td>neutral</td>\n",
       "      <td>@VirginAmerica What @dhepburn said.</td>\n",
       "    </tr>\n",
       "    <tr>\n",
       "      <th>1</th>\n",
       "      <td>positive</td>\n",
       "      <td>@VirginAmerica plus you've added commercials t...</td>\n",
       "    </tr>\n",
       "    <tr>\n",
       "      <th>2</th>\n",
       "      <td>neutral</td>\n",
       "      <td>@VirginAmerica I didn't today... Must mean I n...</td>\n",
       "    </tr>\n",
       "    <tr>\n",
       "      <th>3</th>\n",
       "      <td>negative</td>\n",
       "      <td>@VirginAmerica it's really aggressive to blast...</td>\n",
       "    </tr>\n",
       "    <tr>\n",
       "      <th>4</th>\n",
       "      <td>negative</td>\n",
       "      <td>@VirginAmerica and it's a really big bad thing...</td>\n",
       "    </tr>\n",
       "    <tr>\n",
       "      <th>...</th>\n",
       "      <td>...</td>\n",
       "      <td>...</td>\n",
       "    </tr>\n",
       "    <tr>\n",
       "      <th>14635</th>\n",
       "      <td>positive</td>\n",
       "      <td>@AmericanAir thank you we got on a different f...</td>\n",
       "    </tr>\n",
       "    <tr>\n",
       "      <th>14636</th>\n",
       "      <td>negative</td>\n",
       "      <td>@AmericanAir leaving over 20 minutes Late Flig...</td>\n",
       "    </tr>\n",
       "    <tr>\n",
       "      <th>14637</th>\n",
       "      <td>neutral</td>\n",
       "      <td>@AmericanAir Please bring American Airlines to...</td>\n",
       "    </tr>\n",
       "    <tr>\n",
       "      <th>14638</th>\n",
       "      <td>negative</td>\n",
       "      <td>@AmericanAir you have my money, you change my ...</td>\n",
       "    </tr>\n",
       "    <tr>\n",
       "      <th>14639</th>\n",
       "      <td>neutral</td>\n",
       "      <td>@AmericanAir we have 8 ppl so we need 2 know h...</td>\n",
       "    </tr>\n",
       "  </tbody>\n",
       "</table>\n",
       "<p>14640 rows × 2 columns</p>\n",
       "</div>"
      ],
      "text/plain": [
       "      airline_sentiment                                               text\n",
       "0               neutral                @VirginAmerica What @dhepburn said.\n",
       "1              positive  @VirginAmerica plus you've added commercials t...\n",
       "2               neutral  @VirginAmerica I didn't today... Must mean I n...\n",
       "3              negative  @VirginAmerica it's really aggressive to blast...\n",
       "4              negative  @VirginAmerica and it's a really big bad thing...\n",
       "...                 ...                                                ...\n",
       "14635          positive  @AmericanAir thank you we got on a different f...\n",
       "14636          negative  @AmericanAir leaving over 20 minutes Late Flig...\n",
       "14637           neutral  @AmericanAir Please bring American Airlines to...\n",
       "14638          negative  @AmericanAir you have my money, you change my ...\n",
       "14639           neutral  @AmericanAir we have 8 ppl so we need 2 know h...\n",
       "\n",
       "[14640 rows x 2 columns]"
      ]
     },
     "execution_count": 2,
     "metadata": {},
     "output_type": "execute_result"
    }
   ],
   "source": [
    "df = pd.read_csv('training-lr.csv',encoding='ISO-8859-1')\n",
    "df"
   ]
  },
  {
   "cell_type": "markdown",
   "metadata": {
    "id": "BIYOhzNLNfYR"
   },
   "source": [
    "## Split the data into train (60%), validation (20%) and test (20%)"
   ]
  },
  {
   "cell_type": "code",
   "execution_count": 3,
   "metadata": {
    "id": "ThN8eo5zNfYR"
   },
   "outputs": [
    {
     "name": "stdout",
     "output_type": "stream",
     "text": [
      "Number of training examples: 8784\n",
      "Number of testing examples: 2928\n",
      "Number of validating examples: 2928\n"
     ]
    }
   ],
   "source": [
    "## Split the data into train (60%), validation (20%) and test (20%)x = df['text']\n",
    "#splitting training set and testing set to 80%, 20%\n",
    "\n",
    "###### YOUR CODE STARTS HERE ##### (~ approx 1 line of code)\n",
    "X_train, X_test, Y_train, Y_test = train_test_split(df['text'], df['airline_sentiment'], test_size = 0.2)\n",
    "###### YOUR CODE ENDS HERE #####\n",
    "\n",
    "# training set is 80% now, we split the training and validation where each should be 60% and 20% respectively\n",
    "# i.e. validation data is 1/4 the training data which is equivalent to 25% of it\n",
    "\n",
    "###### YOUR CODE STARTS HERE ##### (~ approx 1 line of code)\n",
    "X_train, X_val, Y_train, Y_val = train_test_split(X_train, Y_train, test_size = 0.25)\n",
    "###### YOUR CODE ENDS HERE #####\n",
    "\n",
    "\n",
    "print (f\"Number of training examples: {len(X_train)}\")\n",
    "print (f\"Number of testing examples: {len(X_test)}\")\n",
    "print (f\"Number of validating examples: {len(X_val)}\")"
   ]
  },
  {
   "cell_type": "markdown",
   "metadata": {
    "id": "A5vhXAaYNfYR"
   },
   "source": [
    "**Expected Output for X_train, X_test and X_val**:\n",
    "<table style=\"width:15%\">\n",
    "  <tr>\n",
    "    <td>**X_train**</td>\n",
    "    <td> 8784 </td>\n",
    "  </tr>\n",
    "  \n",
    "  <tr>\n",
    "    <td>**X_test**</td>\n",
    "    <td> 2928 </td>\n",
    "  </tr>\n",
    "  \n",
    "  <tr>\n",
    "    <td>**X_val**</td>\n",
    "    <td> 2928 </td>\n",
    "  </tr>\n",
    "  \n",
    "</table>\n"
   ]
  },
  {
   "cell_type": "code",
   "execution_count": 4,
   "metadata": {
    "id": "cNtR1AqHNfYR"
   },
   "outputs": [
    {
     "name": "stdout",
     "output_type": "stream",
     "text": [
      "\n",
      "Your values are correct! Continue with the rest of your code.\n"
     ]
    }
   ],
   "source": [
    "assert len(X_train) == 8784\n",
    "assert len(X_test) == 2928\n",
    "assert len(X_val) == 2928\n",
    "\n",
    "print(\"\\nYour values are correct! Continue with the rest of your code.\")"
   ]
  },
  {
   "cell_type": "markdown",
   "metadata": {
    "id": "LF5FL8iONfYR"
   },
   "source": [
    "We use the [LabelEncoder](https://scikit-learn.org/stable/modules/generated/sklearn.preprocessing.LabelEncoder.html) from scikit-learn is employed to encode categorical labels into a numerical format.\n",
    "\n",
    "- The encoder is first instantiated, and then it is fitted to the training set labels (`Y_train`) using the fit_transform method, converting them into numerical representations.\n",
    "- The same encoding transformation is then applied to the validation set labels (`Y_val`) and the test set labels (`Y_test`) using the transform method, ensuring consistency in encoding across all sets."
   ]
  },
  {
   "cell_type": "code",
   "execution_count": 5,
   "metadata": {
    "id": "PM79o_DlNfYS"
   },
   "outputs": [],
   "source": [
    "encoder = LabelEncoder()\n",
    "Y_train = encoder.fit_transform(Y_train)\n",
    "Y_val = encoder.transform(Y_val)\n",
    "Y_test = encoder.transform(Y_test)"
   ]
  },
  {
   "cell_type": "markdown",
   "metadata": {
    "id": "-FJvYUcjNfYS"
   },
   "source": [
    "## Process Data"
   ]
  },
  {
   "cell_type": "markdown",
   "metadata": {
    "id": "uREM69EENfYS"
   },
   "source": [
    " Process your data by removing stop words and performing stemming."
   ]
  },
  {
   "cell_type": "code",
   "execution_count": 6,
   "metadata": {
    "id": "fDuG3FPWNfYS"
   },
   "outputs": [
    {
     "name": "stdout",
     "output_type": "stream",
     "text": [
      "Number of training examples: 8784\n",
      "Number of testing examples: 2928\n",
      "Number of validating examples: 2928\n"
     ]
    }
   ],
   "source": [
    "def preprocess(X):\n",
    "    ps = PorterStemmer()\n",
    "    stop_words = set(stopwords.words('english'))\n",
    "    X_preprocessed = []\n",
    "    for sentence in X:\n",
    "        preprocessed_sentence = ''\n",
    "        word_tokens = word_tokenize(sentence)\n",
    "        for word in word_tokens:\n",
    "            if not word in stop_words:\n",
    "                preprocessed_sentence += ps.stem(word) + ' '\n",
    "\n",
    "        X_preprocessed.append(preprocessed_sentence)\n",
    "\n",
    "    return X_preprocessed\n",
    "\n",
    "### YOUR CODE STARTS HERE ### (~ approx 3 lines)\n",
    "X_train_preprocessed = preprocess(X_train)\n",
    "X_val_preprocessed   = preprocess(X_val)\n",
    "X_test_preprocessed  = preprocess(X_test)\n",
    "### YOUR CODE ENDS HERE ### (~ approx 3 lines)\n",
    "\n",
    "print (f\"Number of training examples: {len(X_train_preprocessed)}\")\n",
    "print (f\"Number of testing examples: {len(X_test_preprocessed)}\")\n",
    "print (f\"Number of validating examples: {len(X_val_preprocessed)}\")"
   ]
  },
  {
   "cell_type": "markdown",
   "metadata": {
    "id": "p5igqO55NfYS"
   },
   "source": [
    "**Expected Output for X_train_preprocessed, X_test_preprocessed and X_val_preprocessed**:\n",
    "<table style=\"width:25%\">\n",
    "  <tr>\n",
    "    <td>**X_train_preprocessed**</td>\n",
    "    <td> 8784 </td>\n",
    "  </tr>\n",
    "  \n",
    "  <tr>\n",
    "    <td>**X_test_preprocessed**</td>\n",
    "    <td> 2928 </td>\n",
    "  </tr>\n",
    "  \n",
    "  <tr>\n",
    "    <td>**X_val_preprocessed**</td>\n",
    "    <td> 2928 </td>\n",
    "  </tr>\n",
    "  \n",
    "</table>\n"
   ]
  },
  {
   "cell_type": "markdown",
   "metadata": {
    "id": "Qk3wLI9HNfYS"
   },
   "source": [
    "## TF-IDF Weighting"
   ]
  },
  {
   "cell_type": "markdown",
   "metadata": {
    "id": "9nkvihuMNfYS"
   },
   "source": [
    "\n",
    "In the below code, you should follow these steps:\n",
    "1. **Create TF-IDF Vectorizer:**\n",
    "Initialize a TF-IDF vectorizer, such as `TfidfVectorizer`, to convert text data into a matrix of TF-IDF features.\n",
    "2. **Fit and Transform Training Data:**\n",
    "Fit the TF-IDF Vectorizer on the preprocessed training data `X_train_preprocessed` to learn the vocabulary and transform it into a TF-IDF feature matrix.\n",
    "3. **Transform Test Data**:\n",
    "Use the pre-fitted TF-IDF Vectorizer to transform the preprocessed testing data `X_test_preprocessed` into a corresponding TF-IDF feature matrix.\n",
    "4. **Transform Validation Data:**\n",
    "Similarly, apply the pre-fitted TF-IDF Vectorizer to transform the validation data `X_val_preprocessed` into a TF-IDF feature matrix.\n",
    "\n",
    "\n",
    "For more info about TFIDF, check the documentation of <a href=\"https://scikit-learn.org/stable/modules/generated/sklearn.feature_extraction.text.TfidfVectorizer.html\">`Tfidf Vectorizer`</a>"
   ]
  },
  {
   "cell_type": "code",
   "execution_count": 7,
   "metadata": {
    "id": "eRD-idWRNfYS"
   },
   "outputs": [
    {
     "name": "stdout",
     "output_type": "stream",
     "text": [
      "Train Vocabulary size: 9426\n"
     ]
    }
   ],
   "source": [
    "### YOUR CODE STARTS HERE ### (≈ approx 2 lines of code)\n",
    "\n",
    "# create your TFID vectorize\n",
    "FreqVectorizer= TfidfVectorizer()\n",
    "# fit and transform the training data\n",
    "X_train_freq= FreqVectorizer.fit_transform(X_train_preprocessed)\n",
    "### YOUR CODE ENDS HERE ###\n",
    "\n",
    "vocab_size_train = len(FreqVectorizer.vocabulary_)\n",
    "print(f\"Train Vocabulary size: {vocab_size_train}\")\n",
    "\n",
    "### YOUR CODE STARTS HERE ### (≈ approx 2 lines of code)\n",
    "# transform X_test\n",
    "X_test_freq= FreqVectorizer.transform(X_test_preprocessed)\n",
    "# transform X_val\n",
    "X_val_freq= FreqVectorizer.transform(X_val_preprocessed)\n",
    "### YOUR CODE ENDS HERE ###"
   ]
  },
  {
   "cell_type": "markdown",
   "metadata": {
    "id": "mih7odY0NfYS"
   },
   "source": [
    "## Logistic Regression Model"
   ]
  },
  {
   "cell_type": "markdown",
   "metadata": {
    "id": "fUiQR-fGNfYT"
   },
   "source": [
    "Train a logistic regression model using the tf-idf weights and use an $L_2$ regularizer. You should set the regularization parameter using the validation set.\n",
    "<br>\n",
    "Note: `C` parameter is used for L2 regularization in <a href=\"https://scikit-learn.org/stable/modules/generated/sklearn.linear_model.LogisticRegression.html\"> Logistic Regression Model</a>\n"
   ]
  },
  {
   "cell_type": "code",
   "execution_count": 8,
   "metadata": {
    "id": "p52FJTbJNfYT"
   },
   "outputs": [
    {
     "name": "stdout",
     "output_type": "stream",
     "text": [
      "Lambda 0.001:\taccuracy: 63.56%\tF1-score:63.56%\n",
      "Lambda 0.01:\taccuracy: 64.34%\tF1-score:64.34%\n",
      "Lambda 0.1:\taccuracy: 71.65%\tF1-score:71.65%\n",
      "Lambda 1:\taccuracy: 78.11%\tF1-score:78.11%\n",
      "Lambda 10:\taccuracy: 76.64%\tF1-score:76.64%\n",
      "Lambda 100:\taccuracy: 73.60%\tF1-score:73.60%\n"
     ]
    }
   ],
   "source": [
    "lbds = [0.001, 0.01, 0.1, 1, 10,  100]\n",
    "\n",
    "### YOUR CODE STARTS HERE ### (≈ approx 5 lines of code)\n",
    "for lbd in lbds:\n",
    "    # Create your logistic regression model here, e.g., LogisticRegression\n",
    "    reg = LogisticRegression(C=lbd, penalty = 'l2', solver = 'lbfgs', max_iter = 10000)\n",
    "\n",
    "    # Use the produced features from the previous cell and corresponding labels training set\n",
    "    reg.fit(X_train_freq, Y_train)\n",
    "\n",
    "    # predict using the validation features created in the previous cell\n",
    "    y_pred = reg.predict(X_val_freq)\n",
    "\n",
    "    # measure the accuracy and f1 using y_pred and val labels\n",
    "    f1 = f1_score(Y_val, y_pred, average = 'micro')\n",
    "    accuracy = accuracy_score(Y_val, y_pred)\n",
    "### YOUR CODE ENDS HERE ###\n",
    "    print(\"Lambda {}:\\taccuracy: {:.2f}%\\tF1-score:{:.2f}%\".format(lbd, accuracy*100, f1*100))"
   ]
  },
  {
   "cell_type": "markdown",
   "metadata": {
    "id": "S4bzY7jRNfYT"
   },
   "source": [
    "<table style=\"width:50%\">\n",
    "  <tr>\n",
    "    <th>Lambda</th>\n",
    "    <th>Accuracy</th>\n",
    "    <th>F1-score</th>\n",
    "  </tr>\n",
    "  <tr>\n",
    "    <td>0.001</td>\n",
    "    <td>60.96%</td>\n",
    "    <td>60.96%</td>\n",
    "  </tr>\n",
    "  <tr>\n",
    "    <td>0.01</td>\n",
    "    <td>61.51%</td>\n",
    "    <td>61.51%</td>\n",
    "  </tr>\n",
    "  <tr>\n",
    "    <td>0.1</td>\n",
    "    <td>68.31%</td>\n",
    "    <td>68.31%</td>\n",
    "  </tr>\n",
    "  <tr>\n",
    "    <td>1</td>\n",
    "    <td>77.49%</td>\n",
    "    <td>77.49%</td>\n",
    "  </tr>\n",
    "  <tr>\n",
    "    <td>10</td>\n",
    "    <td>77.32%</td>\n",
    "    <td>77.32%</td>\n",
    "  </tr>\n",
    "  <tr>\n",
    "    <td>100</td>\n",
    "    <td>74.66%</td>\n",
    "    <td>74.66%</td>\n",
    "  </tr>\n",
    "</table>\n",
    "\n",
    "Please be aware that while your accuracy and F1 score may not precisely match the provided expected output, they should fall within a range of the expected values, allowing for a deviation of approximately ±5%."
   ]
  },
  {
   "cell_type": "markdown",
   "metadata": {
    "id": "GPnq58cFNfYT"
   },
   "source": [
    "Report the validation accuracy and F-measure of your selected model."
   ]
  },
  {
   "cell_type": "code",
   "execution_count": 10,
   "metadata": {
    "id": "w6OlfI72NfYT"
   },
   "outputs": [
    {
     "name": "stdout",
     "output_type": "stream",
     "text": [
      "Lambda 1:\taccuracy: 78.83%\tF1-score:78.83%\n"
     ]
    }
   ],
   "source": [
    "# Train your best model, i.e., the model with the highest accuracy reported before\n",
    "# Report the model's accuracy and F-measure\n",
    "\n",
    "### YOUR CODE STARTS HERE ### (≈ 7 lines of code)\n",
    "\n",
    "# Assign the best regularization parameter identified earlier\n",
    "best_lbd = 1\n",
    "\n",
    "# Instantiate the logistic regression model (LogisticRegression) with the best C value\n",
    "# and train it on the entire training set.\n",
    "# Use appropriate features tfidf training set and labels (Y_train) here\n",
    "\n",
    "reg = LogisticRegression(C=best_lbd, penalty='l2', solver='lbfgs', max_iter=10000)\n",
    "reg.fit(X_train_freq, Y_train)\n",
    "\n",
    "\n",
    "# Make Predictions and Calculate F-measure:\n",
    "# Make predictions on the test set and calculate the F-measure.\n",
    "y_pred = reg.predict(X_test_freq)\n",
    "test_f1 = f1_score(Y_test, y_pred, average = 'micro')\n",
    "\n",
    "\n",
    "# Evaluate the Model on the Test Set:\n",
    "# Test the trained model on the test set and calculate its accuracy.\n",
    "# Use appropriate features tfidf testing set and labels (Y_test) here\n",
    "test_accuracy = accuracy_score(Y_test, y_pred)\n",
    "\n",
    "\n",
    "### YOUR CODE ENDS HERE ###\n",
    "print(\"Lambda 1:\\taccuracy: {:.2f}%\\tF1-score:{:.2f}%\".format(test_accuracy*100, test_f1*100))"
   ]
  },
  {
   "cell_type": "markdown",
   "metadata": {
    "id": "cjkzCeLBNfYT"
   },
   "source": [
    "**Expected Output for Your best Lambda, accuracy, F1-score**:\n",
    "<table style=\"width:50%\">\n",
    "  <tr>\n",
    "    <th>Lambda</th>\n",
    "    <th>Accuracy</th>\n",
    "    <th>F1-score</th>\n",
    "  </tr>\n",
    "   <tr>\n",
    "    <td>**YOUR BEST LAMBDA**</td>\n",
    "    <td>78.89%</td>\n",
    "    <td>78.24%</td>\n",
    "  </tr>\n",
    "</table>\n",
    "\n",
    "Please be aware that while your accuracy and F1 score may not precisely match the provided expected output, they should fall within a range of the expected values, allowing for a deviation of approximately ±5%."
   ]
  },
  {
   "cell_type": "markdown",
   "metadata": {
    "id": "HpdK26AFNfYT"
   },
   "source": [
    "## Exercise 2: Neural Networks"
   ]
  },
  {
   "cell_type": "markdown",
   "metadata": {
    "id": "yPhCH9NKNfYT"
   },
   "source": [
    "In this exercise, you will train a feed-forward neural network using the CIFAR-10 dataset (https://www.cs.toronto.edu/~kriz/cifar.html). The dataset consists of two files. You should use the first file consisting of 50,000 32x32 images for training, and the second file consisting of 10,000 images for testing. You will first need to import the necessary libraries (Scikit-learn, Keras, etc.). You should split the training data into training (80%) and validation (20%). Then, you will train your neural network and find the best model using random search, and then you have to test it on the test data.\n",
    "\n",
    "You need to install Keras library (https://keras.io/) with TensorFlow (https://www.tensorflow.org/) as the backend.\n"
   ]
  },
  {
   "cell_type": "markdown",
   "metadata": {
    "id": "gVOoFJrGNfYT"
   },
   "source": [
    "## Import Libraries\n"
   ]
  },
  {
   "cell_type": "code",
   "execution_count": 11,
   "metadata": {
    "id": "-AuAcLFGNfYT"
   },
   "outputs": [
    {
     "name": "stdout",
     "output_type": "stream",
     "text": [
      "WARNING:tensorflow:From C:\\Users\\Toshiba\\Anaconda\\Lib\\site-packages\\keras\\src\\losses.py:2976: The name tf.losses.sparse_softmax_cross_entropy is deprecated. Please use tf.compat.v1.losses.sparse_softmax_cross_entropy instead.\n",
      "\n"
     ]
    }
   ],
   "source": [
    "import os\n",
    "import numpy as np\n",
    "import pandas as pd\n",
    "import matplotlib.pyplot as plt\n",
    "\n",
    "import tensorflow as tf\n",
    "from tensorflow import keras\n",
    "from keras.models import Sequential\n",
    "from keras.datasets import mnist\n",
    "from tensorflow.keras.utils import to_categorical\n",
    "from tensorflow.keras.optimizers import RMSprop\n",
    "from sklearn.model_selection import train_test_split\n",
    "from tensorflow.keras.layers import Dense, Activation, Dropout\n",
    "from tensorflow.keras.layers import Input, Dense, Dropout\n",
    "\n",
    "from sklearn.metrics import accuracy_score, f1_score\n",
    "from keras.datasets import cifar10"
   ]
  },
  {
   "cell_type": "markdown",
   "metadata": {
    "id": "r3Mw7UD7NfYU"
   },
   "source": [
    "## Load Data\n",
    "\n",
    "Load the CIFAR-10 dataset:\n",
    "\n",
    "- `X_train`: It loads the training images from the CIFAR-10 dataset. X_train is a 4D NumPy array where each element represents an image in the training set.\n",
    "\n",
    "- `y_train`: It loads the corresponding labels for the training images. y_train is a  NumPy array containing the class labels for each image in the training set.\n",
    "\n",
    "- `X_test`: It loads the test images from the CIFAR-10 dataset. Similar to X_train, X_test is a 4D NumPy array representing the images in the test set.\n",
    "\n",
    "- `y_test`: It loads the corresponding labels for the test images. y_test is a NumPy array containing the class labels for each image in the test set."
   ]
  },
  {
   "cell_type": "code",
   "execution_count": 12,
   "metadata": {
    "colab": {
     "base_uri": "https://localhost:8080/"
    },
    "id": "k5Gauj5KNfYU",
    "outputId": "9a9b1296-a093-4a87-e84b-b28fa679f174"
   },
   "outputs": [],
   "source": [
    "(X_train, y_train), (X_test, y_test) = cifar10.load_data()"
   ]
  },
  {
   "cell_type": "markdown",
   "metadata": {
    "id": "m9s5rv8UNfYU"
   },
   "source": [
    "## Split Data"
   ]
  },
  {
   "cell_type": "markdown",
   "metadata": {
    "id": "lZscXvHlNfYU"
   },
   "source": [
    "**Shape of training data:**\n",
    "\n",
    "- `X_train`: (50000, 32, 32, 3) - This indicates that X_train is a 4D NumPy array. The dimensions represent 50,000 samples, each with an image size of 32x32 pixels and with 3 color channels (RGB).\n",
    "\n",
    "- `y_train`: (50000, 1) - This indicates that y_train is a 2D NumPy array with 50,000 rows and 1 column, representing the class labels for the corresponding images in X_train.\n",
    "\n",
    "**Shape of testing data:**\n",
    "\n",
    "- `X_test`: (10000, 32, 32, 3) - Similar to X_train, X_test is a 4D NumPy array with dimensions representing 10,000 test samples, each with an image size of 32x32 pixels and 3 color channels (RGB).\n",
    "\n",
    "- `y_test`: (10000, 1) - Similar to y_train, y_test is a 2D NumPy array with 10,000 rows and 1 column, representing the class labels for the corresponding images in X_test."
   ]
  },
  {
   "cell_type": "code",
   "execution_count": 13,
   "metadata": {
    "colab": {
     "base_uri": "https://localhost:8080/"
    },
    "id": "ookIh5NcNfYU",
    "outputId": "c042da70-fae6-40ec-8f32-0a5e13ff796b"
   },
   "outputs": [
    {
     "name": "stdout",
     "output_type": "stream",
     "text": [
      "Shape of training data:\n",
      "(50000, 32, 32, 3)\n",
      "(50000, 1)\n",
      "Shape of test data:\n",
      "(10000, 32, 32, 3)\n",
      "(10000, 1)\n"
     ]
    }
   ],
   "source": [
    "print(\"Shape of training data:\")\n",
    "print(X_train.shape)\n",
    "print(y_train.shape)\n",
    "print(\"Shape of test data:\")\n",
    "print(X_test.shape)\n",
    "print(y_test.shape)"
   ]
  },
  {
   "cell_type": "markdown",
   "metadata": {
    "id": "z9zm420HNfYU"
   },
   "source": [
    "Below we visualize a set of example training images from the `CIFAR-10` dataset. We define the CIFAR-10 class labels `cifar_classes` and print the labels and corresponding classes for the first five training images.\n",
    "\n",
    "The plot consists of a row of subplots to display these images, each accompanied by its label. The resulting plot provides a quick overview of diverse images and their associated categories within the CIFAR-10 dataset."
   ]
  },
  {
   "cell_type": "code",
   "execution_count": 14,
   "metadata": {
    "colab": {
     "base_uri": "https://localhost:8080/",
     "height": 312
    },
    "id": "oJX6ppsCNfYU",
    "outputId": "90848802-624d-4999-fa5a-e0e3af2559de"
   },
   "outputs": [
    {
     "name": "stdout",
     "output_type": "stream",
     "text": [
      "Example training images and their labels: [6, 9, 9, 4, 1]\n",
      "Corresponding classes for the labels: ['frog', 'truck', 'truck', 'deer', 'automobile']\n"
     ]
    },
    {
     "data": {
      "image/png": "[encoded data removed]",
      "text/plain": [
       "<Figure size 1600x600 with 5 Axes>"
      ]
     },
     "metadata": {},
     "output_type": "display_data"
    }
   ],
   "source": [
    "import matplotlib.pyplot as plt\n",
    "\n",
    "cifar_classes = ['airplane', 'automobile', 'bird', 'cat', 'deer', 'dog', 'frog', 'horse', 'ship', 'truck']\n",
    "print('Example training images and their labels: ' + str([x[0] for x in y_train[0:5]]))\n",
    "print('Corresponding classes for the labels: ' + str([cifar_classes[x[0]] for x in y_train[0:5]]))\n",
    "\n",
    "f, axarr = plt.subplots(1, 5)\n",
    "f.set_size_inches(16, 6)\n",
    "\n",
    "for i in range(5):\n",
    "    img = X_train[i]\n",
    "    axarr[i].imshow(img)\n",
    "plt.show()"
   ]
  },
  {
   "cell_type": "markdown",
   "metadata": {
    "id": "9Z0PmmFbNfYU"
   },
   "source": [
    "In the below code, we perform essential preprocessing steps on the CIFAR-10 dataset before using it for  deep learning tasks.\n",
    "\n",
    "- We transform the class labels in `y_train` and `y_test` from integer indices to one-hot encoded vectors using the `to_categorical` function. This is a standard technique in classification tasks to represent categorical labels.\n",
    "\n",
    "\n",
    "- The images in `X_train` and `X_test`, initially shaped as (32, 32, 3), are reshaped into 3072-dimensional vectors (32 * 32 * 3).\n",
    "    - Initial Image Shape (32, 32, 3):\n",
    "\n",
    "        - The images in `X_train` and `X_test` are initially represented as 3D arrays.\n",
    "        - Each image has a shape of `(32, 32, 3)`, where:\n",
    "            - 32 represents the `height` of the image in pixels.\n",
    "            - 32 represents the `width` of the image in pixels.\n",
    "            - 3 represents the number of `color channels` (RGB - Red, Green, Blue).\n",
    "    - Reshaping to 3072-Dimensional Vectors:\n",
    "\n",
    "       - The reshaping operation transforms each `3D image` array into a `2D vector` by concatenating the values along each dimension.\n",
    "       - In this case, the resulting vector is `3072-dimensional (32 * 32 * 3)`, where each value in the vector corresponds to a pixel intensity or color value in the original image.\n",
    "\n",
    "    - Purpose of reshaping: neural network architectures require the input data to be in a flat vector format rather than a structured grid.\n",
    "\n",
    "- We convert the data type of the image vectors to `float32` and normalize pixel values to the range [0, 1]. Normalization is a best practice in deep learning to facilitate effective model convergence during training."
   ]
  },
  {
   "cell_type": "code",
   "execution_count": 15,
   "metadata": {
    "id": "3etuKLp0NfYV"
   },
   "outputs": [],
   "source": [
    "# Transform label indices to one-hot encoded vectors\n",
    "\n",
    "y_train = to_categorical(y_train, num_classes=10)\n",
    "y_test = to_categorical(y_test, num_classes=10)\n",
    "\n",
    "# Transform images from (32,32,3) to 3072-dimensional vectors (32*32*3)\n",
    "\n",
    "X_train = np.reshape(X_train,(50000,3072))\n",
    "X_test = np.reshape(X_test,(10000,3072))\n",
    "X_train = X_train.astype('float32')\n",
    "X_test = X_test.astype('float32')\n",
    "\n",
    "# Normalization of pixel values (to [0-1] range)\n",
    "\n",
    "X_train /= 255\n",
    "X_test /= 255"
   ]
  },
  {
   "cell_type": "markdown",
   "metadata": {
    "id": "BWZ05wtiNfYV"
   },
   "source": [
    "## Split Data"
   ]
  },
  {
   "cell_type": "markdown",
   "metadata": {
    "id": "O3ceg-ULNfYV"
   },
   "source": [
    "Split your data into training (`80%`) and validation (`20%`)."
   ]
  },
  {
   "cell_type": "code",
   "execution_count": 16,
   "metadata": {
    "id": "m4fXqPCwNfYV"
   },
   "outputs": [],
   "source": [
    "X_train, X_val, y_train, y_val = train_test_split(X_train, y_train, test_size=0.2)"
   ]
  },
  {
   "cell_type": "markdown",
   "metadata": {
    "id": "vD2n8CNWNfYV"
   },
   "source": [
    "Train a neural network on the training data for `100 epochs` with a `mini-batch size` of `32 `without doing any hyperameters tuning.\n",
    "\n",
    "The architecture should be as follows:\n",
    "- One hidden layer with `50 units`\n",
    "- One output layer\n",
    "- The activation of the hidden layer is a `Relu`\n",
    "- The activation of the output layer is a `Softmax`\n",
    "- The loss function is a `categorical cross-entropy` function\n",
    "- The optimizer of this model is `RMSProp`\n",
    "- The `learning rate` = 0.03"
   ]
  },
  {
   "cell_type": "markdown",
   "metadata": {
    "id": "jBWlVBZCNfYV"
   },
   "source": [
    "### Create Model"
   ]
  },
  {
   "cell_type": "markdown",
   "metadata": {
    "id": "WBUyWToHNfYV"
   },
   "source": [
    "Create the above neural network architecture."
   ]
  },
  {
   "cell_type": "code",
   "execution_count": 17,
   "metadata": {
    "colab": {
     "base_uri": "https://localhost:8080/"
    },
    "id": "YmOhNB0wNfYV",
    "outputId": "d565da28-b5f5-498a-a50f-9a3631341694"
   },
   "outputs": [
    {
     "name": "stdout",
     "output_type": "stream",
     "text": [
      "WARNING:tensorflow:From C:\\Users\\Toshiba\\Anaconda\\Lib\\site-packages\\keras\\src\\backend.py:1398: The name tf.executing_eagerly_outside_functions is deprecated. Please use tf.compat.v1.executing_eagerly_outside_functions instead.\n",
      "\n",
      "Model: \"sequential\"\n",
      "_________________________________________________________________\n",
      " Layer (type)                Output Shape              Param #   \n",
      "=================================================================\n",
      " dense (Dense)               (None, 50)                153650    \n",
      "                                                                 \n",
      " dense_1 (Dense)             (None, 10)                510       \n",
      "                                                                 \n",
      "=================================================================\n",
      "Total params: 154160 (602.19 KB)\n",
      "Trainable params: 154160 (602.19 KB)\n",
      "Non-trainable params: 0 (0.00 Byte)\n",
      "_________________________________________________________________\n"
     ]
    }
   ],
   "source": [
    "### YOUR CODE STARTS HERE ### (~ fill in the blanks)\n",
    "model = tf.keras.Sequential([\n",
    "    Input(shape = X_train.shape[1:]),\n",
    "    Dense(units=50, activation='relu'),\n",
    "    Dense(units=10, activation='softmax')\n",
    "])\n",
    "\n",
    "opt = tf.keras.optimizers.RMSprop(learning_rate=0.03)\n",
    "model.compile(loss='categorical_crossentropy', optimizer=opt, metrics=['accuracy'])\n",
    "### YOUR CODE ENDS HERE ###\n",
    "model.summary()"
   ]
  },
  {
   "cell_type": "markdown",
   "metadata": {
    "id": "_BYQnIR2NfYV"
   },
   "source": [
    "**Expected Output for the model summary**:\n",
    "\n",
    "<table>\n",
    "  <tr>\n",
    "    <td><strong>Model:</strong></td>\n",
    "    <td colspan=\"2\">sequential</td>\n",
    "  </tr>\n",
    "  <tr>\n",
    "    <td colspan=\"3\"><strong>_______________________________________________________________________________________________________</strong></td>\n",
    "  </tr>\n",
    "  <tr>\n",
    "    <td><strong>Layer (type)</strong></td>\n",
    "    <td><strong>Output Shape</strong></td>\n",
    "    <td><strong>Param #</strong></td>\n",
    "  </tr>\n",
    "  <tr>\n",
    "    <td>dense (Dense)</td>\n",
    "    <td>(None, 50)</td>\n",
    "    <td>153,650</td>\n",
    "  </tr>\n",
    "  <tr>\n",
    "    <td>dense_1 (Dense)</td>\n",
    "    <td>(None, 10)</td>\n",
    "    <td>510</td>\n",
    "  </tr>\n",
    "  <tr>\n",
    "    <td colspan=\"3\"><strong>=================================================================</strong></td>\n",
    "  </tr>\n",
    "  <tr>\n",
    "    <td><strong>Total params</strong></td>\n",
    "    <td></td>\n",
    "    <td><strong>154,160</strong></td>\n",
    "  </tr>\n",
    "  <tr>\n",
    "    <td><strong>Trainable params</strong></td>\n",
    "    <td></td>\n",
    "    <td><strong>154,160</strong></td>\n",
    "  </tr>\n",
    "  <tr>\n",
    "    <td><strong>Non-trainable params</strong></td>\n",
    "    <td></td>\n",
    "    <td><strong>0</strong></td>\n",
    "  </tr>\n",
    "  <tr>\n",
    "      <td colspan=\"3\"><strong>_______________________________________________________________________________________________________</strong></td>\n",
    "  </tr>\n",
    "</table>\n"
   ]
  },
  {
   "cell_type": "markdown",
   "metadata": {
    "id": "A5y8xkeQNfYV"
   },
   "source": [
    "### Training"
   ]
  },
  {
   "cell_type": "markdown",
   "metadata": {
    "id": "kjDPkdY2NfYV"
   },
   "source": [
    "Train your model using the `training dataset`, and make sure to include the validation set by passing it to the `validation_data` parameter during the training process"
   ]
  },
  {
   "cell_type": "code",
   "execution_count": 18,
   "metadata": {
    "colab": {
     "base_uri": "https://localhost:8080/"
    },
    "id": "aN0RI3xmNfYV",
    "outputId": "f86167bc-5e79-4454-8567-c201ba72d7f5"
   },
   "outputs": [
    {
     "name": "stdout",
     "output_type": "stream",
     "text": [
      "Epoch 1/100\n",
      "WARNING:tensorflow:From C:\\Users\\Toshiba\\Anaconda\\Lib\\site-packages\\keras\\src\\utils\\tf_utils.py:492: The name tf.ragged.RaggedTensorValue is deprecated. Please use tf.compat.v1.ragged.RaggedTensorValue instead.\n",
      "\n",
      "WARNING:tensorflow:From C:\\Users\\Toshiba\\Anaconda\\Lib\\site-packages\\keras\\src\\engine\\base_layer_utils.py:384: The name tf.executing_eagerly_outside_functions is deprecated. Please use tf.compat.v1.executing_eagerly_outside_functions instead.\n",
      "\n",
      "1250/1250 [==============================] - 10s 6ms/step - loss: 2.7687 - accuracy: 0.0989 - val_loss: 2.3093 - val_accuracy: 0.0992\n",
      "Epoch 2/100\n",
      "1250/1250 [==============================] - 8s 6ms/step - loss: 2.3067 - accuracy: 0.1010 - val_loss: 2.3044 - val_accuracy: 0.1002\n",
      "Epoch 3/100\n",
      "1250/1250 [==============================] - 7s 6ms/step - loss: 2.3067 - accuracy: 0.0988 - val_loss: 2.3103 - val_accuracy: 0.1002\n",
      "Epoch 4/100\n",
      "1250/1250 [==============================] - 7s 5ms/step - loss: 2.3063 - accuracy: 0.1019 - val_loss: 2.3068 - val_accuracy: 0.0992\n",
      "Epoch 5/100\n",
      "1250/1250 [==============================] - 8s 7ms/step - loss: 2.3065 - accuracy: 0.1027 - val_loss: 2.3044 - val_accuracy: 0.1031\n",
      "Epoch 6/100\n",
      "1250/1250 [==============================] - 7s 6ms/step - loss: 2.3062 - accuracy: 0.0992 - val_loss: 2.3061 - val_accuracy: 0.1031\n",
      "Epoch 7/100\n",
      "1250/1250 [==============================] - 7s 6ms/step - loss: 2.3065 - accuracy: 0.0992 - val_loss: 2.3047 - val_accuracy: 0.0993\n",
      "Epoch 8/100\n",
      "1250/1250 [==============================] - 7s 6ms/step - loss: 2.3063 - accuracy: 0.1002 - val_loss: 2.3066 - val_accuracy: 0.1025\n",
      "Epoch 9/100\n",
      "1250/1250 [==============================] - 8s 6ms/step - loss: 2.3065 - accuracy: 0.1015 - val_loss: 2.3036 - val_accuracy: 0.1031\n",
      "Epoch 10/100\n",
      "1250/1250 [==============================] - 7s 6ms/step - loss: 2.3065 - accuracy: 0.1001 - val_loss: 2.3134 - val_accuracy: 0.1009\n",
      "Epoch 11/100\n",
      "1250/1250 [==============================] - 7s 6ms/step - loss: 2.3069 - accuracy: 0.0988 - val_loss: 2.3076 - val_accuracy: 0.0921\n",
      "Epoch 12/100\n",
      "1250/1250 [==============================] - 7s 6ms/step - loss: 2.3064 - accuracy: 0.1010 - val_loss: 2.3074 - val_accuracy: 0.0988\n",
      "Epoch 13/100\n",
      "1250/1250 [==============================] - 7s 5ms/step - loss: 2.3064 - accuracy: 0.0996 - val_loss: 2.3090 - val_accuracy: 0.1002\n",
      "Epoch 14/100\n",
      "1250/1250 [==============================] - 7s 6ms/step - loss: 2.3064 - accuracy: 0.1008 - val_loss: 2.3071 - val_accuracy: 0.0992\n",
      "Epoch 15/100\n",
      "1250/1250 [==============================] - 7s 6ms/step - loss: 2.3062 - accuracy: 0.0996 - val_loss: 2.3049 - val_accuracy: 0.1002\n",
      "Epoch 16/100\n",
      "1250/1250 [==============================] - 7s 6ms/step - loss: 2.3063 - accuracy: 0.0999 - val_loss: 2.3044 - val_accuracy: 0.0978\n",
      "Epoch 17/100\n",
      "1250/1250 [==============================] - 7s 5ms/step - loss: 2.3066 - accuracy: 0.0997 - val_loss: 2.3078 - val_accuracy: 0.1031\n",
      "Epoch 18/100\n",
      "1250/1250 [==============================] - 7s 6ms/step - loss: 2.3066 - accuracy: 0.0999 - val_loss: 2.3039 - val_accuracy: 0.0993\n",
      "Epoch 19/100\n",
      "1250/1250 [==============================] - 7s 6ms/step - loss: 2.3070 - accuracy: 0.0986 - val_loss: 2.3073 - val_accuracy: 0.0921\n",
      "Epoch 20/100\n",
      "1250/1250 [==============================] - 7s 6ms/step - loss: 2.3066 - accuracy: 0.0994 - val_loss: 2.3069 - val_accuracy: 0.1009\n",
      "Epoch 21/100\n",
      "1250/1250 [==============================] - 7s 6ms/step - loss: 2.3064 - accuracy: 0.1003 - val_loss: 2.3069 - val_accuracy: 0.0987\n",
      "Epoch 22/100\n",
      "1250/1250 [==============================] - 7s 6ms/step - loss: 2.3065 - accuracy: 0.1000 - val_loss: 2.3077 - val_accuracy: 0.0993\n",
      "Epoch 23/100\n",
      "1250/1250 [==============================] - 7s 6ms/step - loss: 2.3065 - accuracy: 0.0999 - val_loss: 2.3061 - val_accuracy: 0.0921\n",
      "Epoch 24/100\n",
      "1250/1250 [==============================] - 7s 6ms/step - loss: 2.3067 - accuracy: 0.0976 - val_loss: 2.3045 - val_accuracy: 0.1064\n",
      "Epoch 25/100\n",
      "1250/1250 [==============================] - 7s 6ms/step - loss: 2.3067 - accuracy: 0.1000 - val_loss: 2.3053 - val_accuracy: 0.1063\n",
      "Epoch 26/100\n",
      "1250/1250 [==============================] - 7s 6ms/step - loss: 2.3065 - accuracy: 0.1007 - val_loss: 2.3089 - val_accuracy: 0.0978\n",
      "Epoch 27/100\n",
      "1250/1250 [==============================] - 7s 6ms/step - loss: 2.3069 - accuracy: 0.0966 - val_loss: 2.3044 - val_accuracy: 0.1002\n",
      "Epoch 28/100\n",
      "1250/1250 [==============================] - 8s 6ms/step - loss: 2.3069 - accuracy: 0.0988 - val_loss: 2.3031 - val_accuracy: 0.1009\n",
      "Epoch 29/100\n",
      "1250/1250 [==============================] - 7s 6ms/step - loss: 2.3067 - accuracy: 0.0974 - val_loss: 2.3081 - val_accuracy: 0.0992\n",
      "Epoch 30/100\n",
      "1250/1250 [==============================] - 7s 6ms/step - loss: 2.3066 - accuracy: 0.0994 - val_loss: 2.3052 - val_accuracy: 0.1002\n",
      "Epoch 31/100\n",
      "1250/1250 [==============================] - 7s 6ms/step - loss: 2.3066 - accuracy: 0.0974 - val_loss: 2.3050 - val_accuracy: 0.1009\n",
      "Epoch 32/100\n",
      "1250/1250 [==============================] - 7s 6ms/step - loss: 2.3066 - accuracy: 0.0994 - val_loss: 2.3038 - val_accuracy: 0.0993\n",
      "Epoch 33/100\n",
      "1250/1250 [==============================] - 7s 5ms/step - loss: 2.3064 - accuracy: 0.0984 - val_loss: 2.3043 - val_accuracy: 0.1002\n",
      "Epoch 34/100\n",
      "1250/1250 [==============================] - 7s 5ms/step - loss: 2.3068 - accuracy: 0.0980 - val_loss: 2.3067 - val_accuracy: 0.0987\n",
      "Epoch 35/100\n",
      "1250/1250 [==============================] - 7s 5ms/step - loss: 2.3065 - accuracy: 0.0987 - val_loss: 2.3073 - val_accuracy: 0.1031\n",
      "Epoch 36/100\n",
      "1250/1250 [==============================] - 7s 6ms/step - loss: 2.3065 - accuracy: 0.0998 - val_loss: 2.3121 - val_accuracy: 0.0987\n",
      "Epoch 37/100\n",
      "1250/1250 [==============================] - 8s 6ms/step - loss: 2.3063 - accuracy: 0.1007 - val_loss: 2.3059 - val_accuracy: 0.0992\n",
      "Epoch 38/100\n",
      "1250/1250 [==============================] - 7s 6ms/step - loss: 2.3066 - accuracy: 0.0989 - val_loss: 2.3121 - val_accuracy: 0.1009\n",
      "Epoch 39/100\n",
      "1250/1250 [==============================] - 10s 8ms/step - loss: 2.3067 - accuracy: 0.0992 - val_loss: 2.3087 - val_accuracy: 0.1009\n",
      "Epoch 40/100\n",
      "1250/1250 [==============================] - 8s 6ms/step - loss: 2.3062 - accuracy: 0.0977 - val_loss: 2.3094 - val_accuracy: 0.0992\n",
      "Epoch 41/100\n",
      "1250/1250 [==============================] - 7s 6ms/step - loss: 2.3067 - accuracy: 0.1003 - val_loss: 2.3086 - val_accuracy: 0.0921\n",
      "Epoch 42/100\n",
      "1250/1250 [==============================] - 7s 6ms/step - loss: 2.3065 - accuracy: 0.1000 - val_loss: 2.3118 - val_accuracy: 0.1031\n",
      "Epoch 43/100\n",
      "1250/1250 [==============================] - 7s 6ms/step - loss: 2.3067 - accuracy: 0.1004 - val_loss: 2.3069 - val_accuracy: 0.0921\n",
      "Epoch 44/100\n",
      "1250/1250 [==============================] - 7s 5ms/step - loss: 2.3067 - accuracy: 0.0983 - val_loss: 2.3076 - val_accuracy: 0.0992\n",
      "Epoch 45/100\n",
      "1250/1250 [==============================] - 7s 6ms/step - loss: 2.3069 - accuracy: 0.0989 - val_loss: 2.3085 - val_accuracy: 0.1009\n",
      "Epoch 46/100\n",
      "1250/1250 [==============================] - 7s 6ms/step - loss: 2.3070 - accuracy: 0.0976 - val_loss: 2.3037 - val_accuracy: 0.1025\n",
      "Epoch 47/100\n",
      "1250/1250 [==============================] - 7s 6ms/step - loss: 2.3062 - accuracy: 0.1003 - val_loss: 2.3072 - val_accuracy: 0.1031\n",
      "Epoch 48/100\n",
      "1250/1250 [==============================] - 7s 5ms/step - loss: 2.3063 - accuracy: 0.0996 - val_loss: 2.3054 - val_accuracy: 0.1025\n",
      "Epoch 49/100\n",
      "1250/1250 [==============================] - 7s 6ms/step - loss: 2.3067 - accuracy: 0.1010 - val_loss: 2.3066 - val_accuracy: 0.0921\n",
      "Epoch 50/100\n",
      "1250/1250 [==============================] - 7s 6ms/step - loss: 2.3064 - accuracy: 0.0997 - val_loss: 2.3091 - val_accuracy: 0.0921\n",
      "Epoch 51/100\n",
      "1250/1250 [==============================] - 8s 7ms/step - loss: 2.3065 - accuracy: 0.0984 - val_loss: 2.3060 - val_accuracy: 0.0921\n",
      "Epoch 52/100\n",
      "1250/1250 [==============================] - 8s 7ms/step - loss: 2.3067 - accuracy: 0.0971 - val_loss: 2.3096 - val_accuracy: 0.1002\n",
      "Epoch 53/100\n",
      "1250/1250 [==============================] - 8s 6ms/step - loss: 2.3063 - accuracy: 0.0997 - val_loss: 2.3055 - val_accuracy: 0.1002\n",
      "Epoch 54/100\n",
      "1250/1250 [==============================] - 7s 5ms/step - loss: 2.3067 - accuracy: 0.1006 - val_loss: 2.3079 - val_accuracy: 0.1010\n",
      "Epoch 55/100\n",
      "1250/1250 [==============================] - 5s 4ms/step - loss: 2.3068 - accuracy: 0.0979 - val_loss: 2.3045 - val_accuracy: 0.0987\n",
      "Epoch 56/100\n",
      "1250/1250 [==============================] - 7s 5ms/step - loss: 2.3065 - accuracy: 0.0994 - val_loss: 2.3054 - val_accuracy: 0.1009\n",
      "Epoch 57/100\n",
      "1250/1250 [==============================] - 7s 5ms/step - loss: 2.3064 - accuracy: 0.1012 - val_loss: 2.3125 - val_accuracy: 0.0992\n",
      "Epoch 58/100\n",
      "1250/1250 [==============================] - 7s 5ms/step - loss: 2.3065 - accuracy: 0.1016 - val_loss: 2.3036 - val_accuracy: 0.0987\n",
      "Epoch 59/100\n",
      "1250/1250 [==============================] - 7s 6ms/step - loss: 2.3065 - accuracy: 0.0990 - val_loss: 2.3034 - val_accuracy: 0.1009\n",
      "Epoch 60/100\n",
      "1250/1250 [==============================] - 7s 5ms/step - loss: 2.3067 - accuracy: 0.0988 - val_loss: 2.3063 - val_accuracy: 0.0978\n",
      "Epoch 61/100\n",
      "1250/1250 [==============================] - 7s 5ms/step - loss: 2.3067 - accuracy: 0.1000 - val_loss: 2.3045 - val_accuracy: 0.0988\n",
      "Epoch 62/100\n",
      "1250/1250 [==============================] - 7s 6ms/step - loss: 2.3064 - accuracy: 0.0995 - val_loss: 2.3079 - val_accuracy: 0.1025\n",
      "Epoch 63/100\n",
      "1250/1250 [==============================] - 7s 6ms/step - loss: 2.3066 - accuracy: 0.0992 - val_loss: 2.3091 - val_accuracy: 0.0992\n",
      "Epoch 64/100\n",
      "1250/1250 [==============================] - 6s 5ms/step - loss: 2.3063 - accuracy: 0.1024 - val_loss: 2.3101 - val_accuracy: 0.0988\n",
      "Epoch 65/100\n",
      "1250/1250 [==============================] - 7s 5ms/step - loss: 2.3068 - accuracy: 0.1021 - val_loss: 2.3062 - val_accuracy: 0.0993\n",
      "Epoch 66/100\n",
      "1250/1250 [==============================] - 7s 5ms/step - loss: 2.3066 - accuracy: 0.1012 - val_loss: 2.3074 - val_accuracy: 0.0978\n",
      "Epoch 67/100\n",
      "1250/1250 [==============================] - 7s 6ms/step - loss: 2.3067 - accuracy: 0.0993 - val_loss: 2.3073 - val_accuracy: 0.1063\n",
      "Epoch 68/100\n",
      "1250/1250 [==============================] - 7s 6ms/step - loss: 2.3061 - accuracy: 0.1044 - val_loss: 2.3060 - val_accuracy: 0.0921\n",
      "Epoch 69/100\n",
      "1250/1250 [==============================] - 7s 5ms/step - loss: 2.3062 - accuracy: 0.1013 - val_loss: 2.3059 - val_accuracy: 0.1009\n",
      "Epoch 70/100\n",
      "1250/1250 [==============================] - 7s 6ms/step - loss: 2.3065 - accuracy: 0.0991 - val_loss: 2.3066 - val_accuracy: 0.0993\n",
      "Epoch 71/100\n",
      "1250/1250 [==============================] - 7s 6ms/step - loss: 2.3066 - accuracy: 0.0992 - val_loss: 2.3051 - val_accuracy: 0.1063\n",
      "Epoch 72/100\n",
      "1250/1250 [==============================] - 7s 6ms/step - loss: 2.3066 - accuracy: 0.0976 - val_loss: 2.3053 - val_accuracy: 0.1031\n",
      "Epoch 73/100\n",
      "1250/1250 [==============================] - 8s 6ms/step - loss: 2.3065 - accuracy: 0.0970 - val_loss: 2.3041 - val_accuracy: 0.0992\n",
      "Epoch 74/100\n",
      "1250/1250 [==============================] - 7s 5ms/step - loss: 2.3069 - accuracy: 0.1007 - val_loss: 2.3059 - val_accuracy: 0.0977\n",
      "Epoch 75/100\n",
      "1250/1250 [==============================] - 7s 5ms/step - loss: 2.3067 - accuracy: 0.0988 - val_loss: 2.3120 - val_accuracy: 0.0992\n",
      "Epoch 76/100\n",
      "1250/1250 [==============================] - 7s 5ms/step - loss: 2.3068 - accuracy: 0.0978 - val_loss: 2.3098 - val_accuracy: 0.0988\n",
      "Epoch 77/100\n",
      "1250/1250 [==============================] - 6s 5ms/step - loss: 2.3065 - accuracy: 0.0992 - val_loss: 2.3065 - val_accuracy: 0.1063\n",
      "Epoch 78/100\n",
      "1250/1250 [==============================] - 7s 5ms/step - loss: 2.3066 - accuracy: 0.0983 - val_loss: 2.3096 - val_accuracy: 0.0992\n",
      "Epoch 79/100\n",
      "1250/1250 [==============================] - 6s 5ms/step - loss: 2.3066 - accuracy: 0.1002 - val_loss: 2.3039 - val_accuracy: 0.0977\n",
      "Epoch 80/100\n",
      "1250/1250 [==============================] - 6s 5ms/step - loss: 2.3063 - accuracy: 0.0996 - val_loss: 2.3080 - val_accuracy: 0.1002\n",
      "Epoch 81/100\n",
      "1250/1250 [==============================] - 6s 5ms/step - loss: 2.3066 - accuracy: 0.0971 - val_loss: 2.3082 - val_accuracy: 0.0921\n",
      "Epoch 82/100\n",
      "1250/1250 [==============================] - 6s 5ms/step - loss: 2.3067 - accuracy: 0.0976 - val_loss: 2.3088 - val_accuracy: 0.0921\n",
      "Epoch 83/100\n",
      "1250/1250 [==============================] - 7s 5ms/step - loss: 2.3066 - accuracy: 0.0986 - val_loss: 2.3061 - val_accuracy: 0.1025\n",
      "Epoch 84/100\n",
      "1250/1250 [==============================] - 7s 6ms/step - loss: 2.3063 - accuracy: 0.0997 - val_loss: 2.3033 - val_accuracy: 0.1063\n",
      "Epoch 85/100\n",
      "1250/1250 [==============================] - 7s 5ms/step - loss: 2.3067 - accuracy: 0.0970 - val_loss: 2.3050 - val_accuracy: 0.0992\n",
      "Epoch 86/100\n",
      "1250/1250 [==============================] - 6s 5ms/step - loss: 2.3065 - accuracy: 0.1020 - val_loss: 2.3085 - val_accuracy: 0.0993\n",
      "Epoch 87/100\n",
      "1250/1250 [==============================] - 6s 5ms/step - loss: 2.3064 - accuracy: 0.1001 - val_loss: 2.3051 - val_accuracy: 0.1025\n",
      "Epoch 88/100\n",
      "1250/1250 [==============================] - 7s 6ms/step - loss: 2.3064 - accuracy: 0.1004 - val_loss: 2.3063 - val_accuracy: 0.0978\n",
      "Epoch 89/100\n",
      "1250/1250 [==============================] - 7s 5ms/step - loss: 2.3065 - accuracy: 0.1011 - val_loss: 2.3036 - val_accuracy: 0.0987\n",
      "Epoch 90/100\n",
      "1250/1250 [==============================] - 6s 5ms/step - loss: 2.3068 - accuracy: 0.1003 - val_loss: 2.3062 - val_accuracy: 0.1002\n",
      "Epoch 91/100\n",
      "1250/1250 [==============================] - 6s 5ms/step - loss: 2.3068 - accuracy: 0.0998 - val_loss: 2.3036 - val_accuracy: 0.1063\n",
      "Epoch 92/100\n",
      "1250/1250 [==============================] - 8s 6ms/step - loss: 2.3066 - accuracy: 0.1016 - val_loss: 2.3069 - val_accuracy: 0.1026\n",
      "Epoch 93/100\n",
      "1250/1250 [==============================] - 7s 6ms/step - loss: 2.3064 - accuracy: 0.1010 - val_loss: 2.3110 - val_accuracy: 0.0921\n",
      "Epoch 94/100\n",
      "1250/1250 [==============================] - 8s 6ms/step - loss: 2.3067 - accuracy: 0.1015 - val_loss: 2.3091 - val_accuracy: 0.1025\n",
      "Epoch 95/100\n",
      "1250/1250 [==============================] - 7s 6ms/step - loss: 2.3068 - accuracy: 0.0979 - val_loss: 2.3064 - val_accuracy: 0.0921\n",
      "Epoch 96/100\n",
      "1250/1250 [==============================] - 6s 5ms/step - loss: 2.3063 - accuracy: 0.1021 - val_loss: 2.3082 - val_accuracy: 0.0987\n",
      "Epoch 97/100\n",
      "1250/1250 [==============================] - 7s 5ms/step - loss: 2.3063 - accuracy: 0.0987 - val_loss: 2.3094 - val_accuracy: 0.1025\n",
      "Epoch 98/100\n",
      "1250/1250 [==============================] - 7s 5ms/step - loss: 2.3062 - accuracy: 0.1012 - val_loss: 2.3071 - val_accuracy: 0.1009\n",
      "Epoch 99/100\n",
      "1250/1250 [==============================] - 7s 6ms/step - loss: 2.3065 - accuracy: 0.1002 - val_loss: 2.3064 - val_accuracy: 0.1064\n",
      "Epoch 100/100\n",
      "1250/1250 [==============================] - 6s 5ms/step - loss: 2.3063 - accuracy: 0.0998 - val_loss: 2.3039 - val_accuracy: 0.0987\n"
     ]
    }
   ],
   "source": [
    "### YOUR CODE STARTS HERE ### (~ fill in the blanks)\n",
    "history = model.fit(X_train,y_train ,\n",
    "                    batch_size=32, epochs=100,\n",
    "                    validation_data=(X_val,y_val))\n",
    "### YOUR CODE ENDS HERE ###"
   ]
  },
  {
   "cell_type": "markdown",
   "metadata": {
    "id": "q37HFjbBNfYW"
   },
   "source": [
    "### Learning Curve"
   ]
  },
  {
   "cell_type": "markdown",
   "metadata": {
    "id": "Csh4XRcjNfYW"
   },
   "source": [
    "Plot your learning curve (i.e., training and validation loss versus number of epochs). What do you observe from the curve? Does your model suffer from high bias/variance? Explain."
   ]
  },
  {
   "cell_type": "code",
   "execution_count": 19,
   "metadata": {
    "colab": {
     "base_uri": "https://localhost:8080/",
     "height": 472
    },
    "id": "k3MV6TQVNfYW",
    "outputId": "6d40ae91-6a22-4974-d502-4bf28604a764"
   },
   "outputs": [
    {
     "data": {
      "image/png": "[encoded data removed]",
      "text/plain": [
       "<Figure size 640x480 with 1 Axes>"
      ]
     },
     "metadata": {},
     "output_type": "display_data"
    }
   ],
   "source": [
    "Ein = history.history['loss']\n",
    "Eval = history.history['val_loss']\n",
    "plt.plot(Ein,label='Ein')\n",
    "plt.plot(Eval,label='Eval')\n",
    "plt.title('Learning Curve')\n",
    "plt.ylabel('Error')\n",
    "plt.xlabel('Epochs')\n",
    "plt.legend(bbox_to_anchor=(1.05, 1), loc='upper left', borderaxespad=0.)\n",
    "plt.show()"
   ]
  },
  {
   "cell_type": "markdown",
   "metadata": {
    "id": "GKUbf6G4NfYW"
   },
   "source": [
    "### Does your model exhibit signs of overfitting, underfitting, both, or neither when analyzing the learning curve? Provide a detailed explanation to support your assessment.\n",
    "###### <span style='color:green'> YOUR EXPLANATION STARTS HERE </span>"
   ]
  },
  {
   "cell_type": "code",
   "execution_count": null,
   "metadata": {
    "id": "XmvDeKEXNfYW"
   },
   "outputs": [],
   "source": [
    "#Both errors Ein and Eval decrease and remain close to each other throughout the training process. \n",
    "#Let's check for overfitting:\n",
    "#There is no large gap between Ein and Eval, and the Ein and Eval curves are close to each other.\n",
    "#If our model suffers from overfittting, we then should observe that Ein curve is lower than Eval curve, \n",
    "#which is not the case here.\n",
    "#Let's check for underfitting:\n",
    "#If our model suffers from underfitting, we should observe that both errors Ein and Eval remain high but it's not the case here.\n",
    "\n",
    "#So, our model doesn't suffer from overfitting nor underfitting. \n",
    "#This means that our model is learning and generalizing well."
   ]
  },
  {
   "cell_type": "markdown",
   "metadata": {
    "id": "NWR-wyKlNfYW"
   },
   "source": [
    "### Random Search"
   ]
  },
  {
   "cell_type": "markdown",
   "metadata": {
    "id": "l1-ybBTHNfYW"
   },
   "source": [
    "The code below defines a custom hypermodel class, `MyHyperModel`, using the Keras Tuner (`keras_tuner`). The hypermodel is designed for hyperparameter tuning using techniques such as Bayesian optimization."
   ]
  },
  {
   "cell_type": "code",
   "execution_count": 20,
   "metadata": {
    "colab": {
     "base_uri": "https://localhost:8080/"
    },
    "id": "NKQ6kw6HOU1H",
    "outputId": "d1bf94a9-cee7-48ea-a0d5-2fcde0df6f8f"
   },
   "outputs": [
    {
     "name": "stdout",
     "output_type": "stream",
     "text": [
      "Requirement already satisfied: keras_tuner in c:\\users\\toshiba\\anaconda\\lib\\site-packages (1.4.6)\n",
      "Requirement already satisfied: keras in c:\\users\\toshiba\\anaconda\\lib\\site-packages (from keras_tuner) (2.15.0)\n",
      "Requirement already satisfied: packaging in c:\\users\\toshiba\\anaconda\\lib\\site-packages (from keras_tuner) (23.1)\n",
      "Requirement already satisfied: requests in c:\\users\\toshiba\\anaconda\\lib\\site-packages (from keras_tuner) (2.31.0)\n",
      "Requirement already satisfied: kt-legacy in c:\\users\\toshiba\\anaconda\\lib\\site-packages (from keras_tuner) (1.0.5)\n",
      "Requirement already satisfied: charset-normalizer<4,>=2 in c:\\users\\toshiba\\anaconda\\lib\\site-packages (from requests->keras_tuner) (2.0.4)\n",
      "Requirement already satisfied: idna<4,>=2.5 in c:\\users\\toshiba\\anaconda\\lib\\site-packages (from requests->keras_tuner) (3.4)\n",
      "Requirement already satisfied: urllib3<3,>=1.21.1 in c:\\users\\toshiba\\anaconda\\lib\\site-packages (from requests->keras_tuner) (1.26.16)\n",
      "Requirement already satisfied: certifi>=2017.4.17 in c:\\users\\toshiba\\anaconda\\lib\\site-packages (from requests->keras_tuner) (2023.7.22)\n"
     ]
    }
   ],
   "source": [
    "!pip install keras_tuner"
   ]
  },
  {
   "cell_type": "code",
   "execution_count": 21,
   "metadata": {
    "id": "raQI5Y3oNfYW"
   },
   "outputs": [],
   "source": [
    "import keras_tuner as kt\n",
    "from keras.callbacks import ModelCheckpoint\n",
    "from tensorflow.keras.callbacks import EarlyStopping\n",
    "class MyHyperModel(kt.HyperModel):\n",
    "    def build(self, hp):\n",
    "        model = tf.keras.Sequential()\n",
    "\n",
    "        layers_tuner = hp.Int('dens_layer', 1, 5)\n",
    "        for l in range(layers_tuner):\n",
    "\n",
    "            dense_tuner = hp.Int('units', 50, 256)\n",
    "            model.add(Dense(units=dense_tuner, activation='relu'))\n",
    "\n",
    "            dropout_tuner = hp.Float('dropout_rate', 0, 0.5)\n",
    "            model.add(Dropout(dropout_tuner))\n",
    "\n",
    "        model.add(Dense(units=10, activation='softmax'))\n",
    "        # Define a learning rate decay\n",
    "        lr_schedule = tf.keras.optimizers.schedules.ExponentialDecay(\n",
    "            initial_learning_rate=hp.Float('initial_learning_rate', 1e-4, 1e-2, sampling='log'),\n",
    "            decay_steps=hp.Int('decay_steps', 100, 10000),\n",
    "            decay_rate=hp.Float('decay_rate',  1e-4, 1e-2),\n",
    "            staircase=True)\n",
    "        opt = tf.keras.optimizers.RMSprop(learning_rate=lr_schedule)\n",
    "\n",
    "\n",
    "        model.compile(loss=\"categorical_crossentropy\", optimizer=opt, metrics=[\"accuracy\"])\n",
    "\n",
    "        return model\n",
    "\n",
    "    def fit(self, hp, model, *args, **kwargs):\n",
    "        return model.fit(\n",
    "            *args,\n",
    "            batch_size=hp.Choice(\"batch_size\", [16, 32,64,96,128,256]),\n",
    "            **kwargs,\n",
    "        )"
   ]
  },
  {
   "cell_type": "code",
   "execution_count": 22,
   "metadata": {
    "id": "wZTvzuIfNfYW"
   },
   "outputs": [
    {
     "name": "stdout",
     "output_type": "stream",
     "text": [
      "Reloading Tuner from my_dir\\tune_hypermodel\\tuner0.json\n"
     ]
    }
   ],
   "source": [
    "tuner = kt.RandomSearch(\n",
    "    MyHyperModel(),\n",
    "    objective=\"accuracy\",\n",
    "    max_trials=10,\n",
    "    directory=\"my_dir\",\n",
    "    project_name=\"tune_hypermodel\"\n",
    ")\n",
    "stop_early = tf.keras.callbacks.EarlyStopping(monitor='val_accuracy', patience=3)"
   ]
  },
  {
   "cell_type": "code",
   "execution_count": 23,
   "metadata": {},
   "outputs": [
    {
     "name": "stdout",
     "output_type": "stream",
     "text": [
      "Search space summary\n",
      "Default search space size: 9\n",
      "dens_layer (Int)\n",
      "{'default': None, 'conditions': [], 'min_value': 1, 'max_value': 5, 'step': 1, 'sampling': 'linear'}\n",
      "units (Int)\n",
      "{'default': None, 'conditions': [], 'min_value': 50, 'max_value': 256, 'step': 1, 'sampling': 'linear'}\n",
      "dropout_rate (Float)\n",
      "{'default': 0.0, 'conditions': [], 'min_value': 0.0, 'max_value': 0.5, 'step': None, 'sampling': 'linear'}\n",
      "learning_rate (Float)\n",
      "{'default': 0.0001, 'conditions': [], 'min_value': 0.0001, 'max_value': 0.01, 'step': None, 'sampling': 'log'}\n",
      "learning_rate_decay (Float)\n",
      "{'default': 0.0001, 'conditions': [], 'min_value': 0.0001, 'max_value': 0.01, 'step': None, 'sampling': 'log'}\n",
      "batch_size (Choice)\n",
      "{'default': 16, 'conditions': [], 'values': [16, 32, 64, 96, 128, 256], 'ordered': True}\n",
      "initial_learning_rate (Float)\n",
      "{'default': 0.0001, 'conditions': [], 'min_value': 0.0001, 'max_value': 0.01, 'step': None, 'sampling': 'log'}\n",
      "decay_steps (Int)\n",
      "{'default': None, 'conditions': [], 'min_value': 100, 'max_value': 10000, 'step': 1, 'sampling': 'linear'}\n",
      "decay_rate (Float)\n",
      "{'default': 0.0001, 'conditions': [], 'min_value': 0.0001, 'max_value': 0.01, 'step': None, 'sampling': 'linear'}\n",
      "None\n"
     ]
    }
   ],
   "source": [
    "print(tuner.search_space_summary())"
   ]
  },
  {
   "cell_type": "markdown",
   "metadata": {
    "id": "WvI3qpznNfYW"
   },
   "source": [
    "### Hyperparameters Tuning"
   ]
  },
  {
   "cell_type": "markdown",
   "metadata": {
    "id": "i5JNfNYYNfYW"
   },
   "source": [
    "To optimize the performance of the neural network architecture described above, a hyperparameter tuning process will be performed using random search. The tuning will be conducted on the validation set, taking into consideration insights gained from the learning curve analysis.\n",
    "\n",
    "\n",
    "1. **Learning Rates:** (`['learning_rate']`) Search for optimal learning rates to enhance model convergence.\n",
    "2. **Dropout Rate:** (`['dropout_rate']`) Optimize the dropout rate for better regularization.\n",
    "3. **Number of Hidden Units:** (`['units']`) Tune the number of hidden units in each layer for improved representation.\n",
    "4. **Mini-Batch Size:** (`['batch_size']`)Investigate the impact of different mini-batch sizes on training efficiency.\n",
    "5. **Learning Rate Decay:** (`['learning_rate_decay']`) Explore suitable learning rate decay values to fine-tune optimization.\n",
    "6. **Number of Layers:** (`['dens_layer']`) Experiment with the number of hidden layers to find an optimal network depth.\n",
    "\n"
   ]
  },
  {
   "cell_type": "code",
   "execution_count": 24,
   "metadata": {
    "colab": {
     "base_uri": "https://localhost:8080/",
     "height": 650
    },
    "id": "GkvVBDb5NfYX",
    "outputId": "546a704e-39c7-4636-c4f7-f1c9a15cedf2"
   },
   "outputs": [],
   "source": [
    "# searching for the best parameter using random search\n",
    "tuner.search(X_train, y_train, epochs=100,validation_data=(X_val, y_val), callbacks=[stop_early])"
   ]
  },
  {
   "cell_type": "code",
   "execution_count": 25,
   "metadata": {
    "id": "i6POhA-gNfYX"
   },
   "outputs": [
    {
     "name": "stdout",
     "output_type": "stream",
     "text": [
      "The best model has the following configurations:\n",
      "2 hidden layers\n",
      "221 units each hidden layer\n",
      "dropout rate: 0.17341\n",
      "learning rate:      0.00075\n",
      "learning rate decay: 0.00150\n",
      "decay steps: 3875\n",
      "batch size: 128\n"
     ]
    }
   ],
   "source": [
    "# reporting the best parameters\n",
    "params = tuner.get_best_hyperparameters()[0]\n",
    "print(\"The best model has the following configurations:\")\n",
    "print(\"{} hidden layers\\n{} units each hidden layer\\ndropout rate: {:.5f}\\nlearning rate:\\\n",
    "      {:.5f}\\nlearning rate decay: {:.5f}\\ndecay steps: {}\\nbatch size: {}\".format(\n",
    "    vars(params)['values']['dens_layer'],\n",
    "    vars(params)['values']['units'],\n",
    "    vars(params)['values']['dropout_rate'],\n",
    "    vars(params)['values']['initial_learning_rate'],\n",
    "    vars(params)['values']['decay_rate'],\n",
    "    vars(params)['values']['decay_steps'],\n",
    "    vars(params)['values']['batch_size'],\n",
    "))"
   ]
  },
  {
   "cell_type": "markdown",
   "metadata": {
    "id": "pWotfkKnNfYX"
   },
   "source": [
    "**Expected output for the best parameters**\n",
    "<table>\n",
    "  <tr>\n",
    "    <td><strong>Hidden Layers</strong></td>\n",
    "    <td>3</td>\n",
    "  </tr>\n",
    "  <tr>\n",
    "    <td><strong>Units per Hidden Layer</strong></td>\n",
    "    <td>155</td>\n",
    "  </tr>\n",
    "  <tr>\n",
    "    <td><strong>Dropout Rate</strong></td>\n",
    "    <td>0.06859</td>\n",
    "  </tr>\n",
    "  <tr>\n",
    "    <td><strong>Learning Rate</strong></td>\n",
    "    <td>0.00059</td>\n",
    "  </tr>\n",
    "  <tr>\n",
    "    <td><strong>Learning Rate Decay</strong></td>\n",
    "    <td>0.00015</td>\n",
    "  </tr>\n",
    "  <tr>\n",
    "    <td><strong>Batch Size</strong></td>\n",
    "    <td>16</td>\n",
    "  </tr>\n",
    "  <tr>\n",
    "    <td colspan=\"2\"><em>Note: Your values may vary based on training and optimization.</em></td>\n",
    "  </tr>\n",
    "</table>\n"
   ]
  },
  {
   "cell_type": "markdown",
   "metadata": {
    "collapsed": true,
    "id": "FgGcLa-2NfYX",
    "jupyter": {
     "outputs_hidden": true
    }
   },
   "source": [
    "### Test your Best Model"
   ]
  },
  {
   "cell_type": "markdown",
   "metadata": {
    "id": "5FagmSnKNfYX"
   },
   "source": [
    "Finally, once you have tuned your hyperparameters and selected your best model, now test it on the test dataset, and report the F-measure and accuracy.  \n",
    "\n",
    "After successfully tuning the hyperparameters and selecting the best model based on the validation set, the final step is to assess the model's generalization performance on the test dataset. This evaluation provides an unbiased measure of the model's effectiveness on previously unseen data.\n",
    "\n",
    "1. **Use your best parameters for the Best Model:**\n",
    "   - Reconstruct your model using the optimal parameters that were previously identified as yielding the highest performance on the validation set, considering metrics such as accuracy and F-measure.\n",
    "\n",
    "2. **Testing on the Test Dataset:**\n",
    "   - Evaluate the best model using the test dataset, which the model has not encountered during training or validation.\n",
    "\n",
    "3. **Reporting:**\n",
    "   - Report the F-measure and accuracy achieved by the model on the test dataset.\n"
   ]
  },
  {
   "cell_type": "code",
   "execution_count": 26,
   "metadata": {
    "id": "_CsSZ8UqNfYX"
   },
   "outputs": [],
   "source": [
    "from keras import backend as K\n",
    "def recall_m(y_true, y_pred):\n",
    "    true_positives = K.sum(K.round(K.clip(y_true * y_pred, 0, 1)))\n",
    "    possible_positives = K.sum(K.round(K.clip(y_true, 0, 1)))\n",
    "    recall = true_positives / (possible_positives + K.epsilon())\n",
    "    return recall\n",
    "\n",
    "def precision_m(y_true, y_pred):\n",
    "    true_positives = K.sum(K.round(K.clip(y_true * y_pred, 0, 1)))\n",
    "    predicted_positives = K.sum(K.round(K.clip(y_pred, 0, 1)))\n",
    "    precision = true_positives / (predicted_positives + K.epsilon())\n",
    "    return precision\n",
    "\n",
    "def f1_m(y_true, y_pred):\n",
    "    precision = precision_m(y_true, y_pred)\n",
    "    recall = recall_m(y_true, y_pred)\n",
    "    return 2*((precision*recall)/(precision+recall+K.epsilon()))"
   ]
  },
  {
   "cell_type": "code",
   "execution_count": 27,
   "metadata": {
    "id": "ta9sduJDNfYX"
   },
   "outputs": [
    {
     "name": "stdout",
     "output_type": "stream",
     "text": [
      "Epoch 1/100\n",
      "313/313 [==============================] - 12s 28ms/step - loss: 2.0463 - accuracy: 0.2541 - f1_m: 0.0582 - val_loss: 1.8371 - val_accuracy: 0.3318 - val_f1_m: 0.1663\n",
      "Epoch 2/100\n",
      "313/313 [==============================] - 7s 22ms/step - loss: 1.8276 - accuracy: 0.3395 - f1_m: 0.1586 - val_loss: 1.7429 - val_accuracy: 0.3634 - val_f1_m: 0.1998\n",
      "Epoch 3/100\n",
      "313/313 [==============================] - 7s 23ms/step - loss: 1.7402 - accuracy: 0.3765 - f1_m: 0.2139 - val_loss: 1.8041 - val_accuracy: 0.3547 - val_f1_m: 0.1946\n",
      "Epoch 4/100\n",
      "313/313 [==============================] - 7s 23ms/step - loss: 1.6790 - accuracy: 0.3991 - f1_m: 0.2529 - val_loss: 1.7199 - val_accuracy: 0.3926 - val_f1_m: 0.2232\n",
      "Epoch 5/100\n",
      "313/313 [==============================] - 7s 22ms/step - loss: 1.6280 - accuracy: 0.4177 - f1_m: 0.2838 - val_loss: 1.5892 - val_accuracy: 0.4323 - val_f1_m: 0.3167\n",
      "Epoch 6/100\n",
      "313/313 [==============================] - 7s 23ms/step - loss: 1.5846 - accuracy: 0.4320 - f1_m: 0.3121 - val_loss: 1.6094 - val_accuracy: 0.4165 - val_f1_m: 0.3105\n",
      "Epoch 7/100\n",
      "313/313 [==============================] - 8s 25ms/step - loss: 1.5521 - accuracy: 0.4457 - f1_m: 0.3277 - val_loss: 1.6336 - val_accuracy: 0.4148 - val_f1_m: 0.2777\n",
      "Epoch 8/100\n",
      "313/313 [==============================] - 7s 23ms/step - loss: 1.5218 - accuracy: 0.4594 - f1_m: 0.3467 - val_loss: 1.5399 - val_accuracy: 0.4466 - val_f1_m: 0.3571\n",
      "Epoch 9/100\n",
      "313/313 [==============================] - 7s 24ms/step - loss: 1.4939 - accuracy: 0.4674 - f1_m: 0.3615 - val_loss: 1.6473 - val_accuracy: 0.4142 - val_f1_m: 0.3193\n",
      "Epoch 10/100\n",
      "313/313 [==============================] - 7s 24ms/step - loss: 1.4699 - accuracy: 0.4758 - f1_m: 0.3761 - val_loss: 1.5391 - val_accuracy: 0.4512 - val_f1_m: 0.3209\n",
      "Epoch 11/100\n",
      "313/313 [==============================] - 7s 24ms/step - loss: 1.4414 - accuracy: 0.4868 - f1_m: 0.3902 - val_loss: 1.4992 - val_accuracy: 0.4629 - val_f1_m: 0.3738\n",
      "Epoch 12/100\n",
      "313/313 [==============================] - 8s 26ms/step - loss: 1.4234 - accuracy: 0.4893 - f1_m: 0.4047 - val_loss: 1.5972 - val_accuracy: 0.4425 - val_f1_m: 0.3706\n",
      "Epoch 13/100\n",
      "313/313 [==============================] - 8s 25ms/step - loss: 1.3698 - accuracy: 0.5136 - f1_m: 0.4293 - val_loss: 1.4354 - val_accuracy: 0.4872 - val_f1_m: 0.4038\n",
      "Epoch 14/100\n",
      "313/313 [==============================] - 13s 41ms/step - loss: 1.3056 - accuracy: 0.5360 - f1_m: 0.4470 - val_loss: 1.4192 - val_accuracy: 0.4923 - val_f1_m: 0.4061\n",
      "Epoch 15/100\n",
      "313/313 [==============================] - 8s 24ms/step - loss: 1.2927 - accuracy: 0.5390 - f1_m: 0.4522 - val_loss: 1.4138 - val_accuracy: 0.4952 - val_f1_m: 0.4105\n",
      "Epoch 16/100\n",
      "313/313 [==============================] - 7s 24ms/step - loss: 1.2861 - accuracy: 0.5426 - f1_m: 0.4550 - val_loss: 1.4107 - val_accuracy: 0.4971 - val_f1_m: 0.4121\n",
      "Epoch 17/100\n",
      "313/313 [==============================] - 7s 24ms/step - loss: 1.2816 - accuracy: 0.5453 - f1_m: 0.4581 - val_loss: 1.4086 - val_accuracy: 0.4981 - val_f1_m: 0.4138\n",
      "Epoch 18/100\n",
      "313/313 [==============================] - 8s 24ms/step - loss: 1.2800 - accuracy: 0.5465 - f1_m: 0.4601 - val_loss: 1.4069 - val_accuracy: 0.4993 - val_f1_m: 0.4167\n",
      "Epoch 19/100\n",
      "313/313 [==============================] - 8s 24ms/step - loss: 1.2795 - accuracy: 0.5479 - f1_m: 0.4617 - val_loss: 1.4056 - val_accuracy: 0.4994 - val_f1_m: 0.4171\n",
      "Epoch 20/100\n",
      "313/313 [==============================] - 7s 24ms/step - loss: 1.2765 - accuracy: 0.5455 - f1_m: 0.4619 - val_loss: 1.4045 - val_accuracy: 0.5011 - val_f1_m: 0.4193\n",
      "Epoch 21/100\n",
      "313/313 [==============================] - 7s 24ms/step - loss: 1.2749 - accuracy: 0.5478 - f1_m: 0.4641 - val_loss: 1.4036 - val_accuracy: 0.5015 - val_f1_m: 0.4206\n",
      "Epoch 22/100\n",
      "313/313 [==============================] - 8s 24ms/step - loss: 1.2736 - accuracy: 0.5494 - f1_m: 0.4653 - val_loss: 1.4028 - val_accuracy: 0.5025 - val_f1_m: 0.4213\n",
      "Epoch 23/100\n",
      "313/313 [==============================] - 7s 24ms/step - loss: 1.2748 - accuracy: 0.5472 - f1_m: 0.4640 - val_loss: 1.4021 - val_accuracy: 0.5029 - val_f1_m: 0.4216\n",
      "Epoch 24/100\n",
      "313/313 [==============================] - 8s 24ms/step - loss: 1.2719 - accuracy: 0.5493 - f1_m: 0.4657 - val_loss: 1.4016 - val_accuracy: 0.5037 - val_f1_m: 0.4221\n",
      "Epoch 25/100\n",
      "313/313 [==============================] - 8s 25ms/step - loss: 1.2698 - accuracy: 0.5475 - f1_m: 0.4659 - val_loss: 1.4011 - val_accuracy: 0.5041 - val_f1_m: 0.4223\n",
      "Epoch 26/100\n",
      "313/313 [==============================] - 8s 24ms/step - loss: 1.2704 - accuracy: 0.5494 - f1_m: 0.4687 - val_loss: 1.4011 - val_accuracy: 0.5041 - val_f1_m: 0.4224\n",
      "Epoch 27/100\n",
      "313/313 [==============================] - 8s 24ms/step - loss: 1.2698 - accuracy: 0.5485 - f1_m: 0.4665 - val_loss: 1.4011 - val_accuracy: 0.5041 - val_f1_m: 0.4224\n",
      "Epoch 28/100\n",
      "313/313 [==============================] - 8s 25ms/step - loss: 1.2712 - accuracy: 0.5485 - f1_m: 0.4673 - val_loss: 1.4011 - val_accuracy: 0.5041 - val_f1_m: 0.4224\n"
     ]
    }
   ],
   "source": [
    "# training the best tuned model\n",
    "# input the best parameters reported before\n",
    "\n",
    "### YOUR CODE STARTS HERE ###  (~ Fill in the blanks)\n",
    "tuned_model = tf.keras.Sequential([\n",
    "    Input(shape = X_train.shape[1:]),\n",
    "    Dense(units=221, activation='relu'),\n",
    "    Dense(units=221, activation='relu'),\n",
    "    Dense(units=221, activation='relu'),\n",
    "    Dropout(0.17341),\n",
    "    Dense(units=10, activation='softmax')\n",
    "])\n",
    "\n",
    "# input the best learning rate and decay\n",
    "lr_schedule = tf.keras.optimizers.schedules.ExponentialDecay(\n",
    "    initial_learning_rate=0.00075,\n",
    "    decay_steps= 3875,\n",
    "    decay_rate= 0.00150,\n",
    "    staircase=True)\n",
    "opt = tf.keras.optimizers.RMSprop(learning_rate=lr_schedule)\n",
    "tuned_model.compile(loss='categorical_crossentropy', optimizer=opt, metrics=['accuracy',f1_m])\n",
    "\n",
    "### YOUR CODE ENDS HERE ###\n",
    "\n",
    "\n",
    "\n",
    "# report the accuracy and f-measure using the test set as validation data\n",
    "history_tuned = tuned_model.fit(X_train, y_train,\n",
    "                    batch_size=128, epochs=100,\n",
    "                    validation_data=(X_test, y_test), callbacks=[stop_early])\n",
    "\n"
   ]
  },
  {
   "cell_type": "markdown",
   "metadata": {
    "id": "kOWgcyrQNfYX"
   },
   "source": [
    "##  <span style=\"color:red\">Bonus Exercise: </span>  SVM"
   ]
  },
  {
   "cell_type": "markdown",
   "metadata": {
    "id": "8fYOy9TwNfYX"
   },
   "source": [
    "In this exercise, you will train a linear SVM classifier on `training-svm.txt` data. You will learn how to tune and find the best value of the soft-margin threshold `C` using an exhaustive `grid search` with 5-fold cross-validation, and report the cross-validation accuracy and F-measure and the number of support vectors for the selected model.\n",
    "\n",
    "The training set provided consists of `65 columns`, where the first `64 columns` are the `features` and the `last column` is the `class label`. Your goal is to build a multi-class SVM classifier that can predict the label of a given instance using its feature values. To achieve this goal, you need to perform the following tasks.\n"
   ]
  },
  {
   "cell_type": "markdown",
   "metadata": {
    "id": "-XCGwb_LNfYX"
   },
   "source": [
    "## Import Libraries\n",
    "\n",
    "You need to run the below cell to import the necessary libraries, including `pandas` for data manipulation, `SVC` (Support Vector Classification) from scikit-learn for building a support vector machine model, and `GridSearchCV` for hyperparameter tuning.\n",
    "\n",
    "- [SVC](https://scikit-learn.org/stable/modules/generated/sklearn.svm.SVC.html) Class: The `SVC` class (Support Vector Classification) is used for classification tasks. It supports various kernel functions, including `linear`, `polynomial`, and `radial` basis function.\n",
    "- [Hyperparameter Tuning with GridSearchCV](https://scikit-learn.org/stable/modules/generated/sklearn.model_selection.GridSearchCV.html):\n",
    "GridSearchCV is used for hyperparameter tuning inorder to find the optimal values of parameters such as the regularization parameter `C` and kernel parameters."
   ]
  },
  {
   "cell_type": "code",
   "execution_count": 28,
   "metadata": {
    "id": "jkCZt0kENfYX"
   },
   "outputs": [],
   "source": [
    "from sklearn.model_selection import GridSearchCV\n",
    "from sklearn.svm import SVC\n",
    "from sklearn.metrics import accuracy_score, f1_score\n",
    "import pandas as pd"
   ]
  },
  {
   "cell_type": "markdown",
   "metadata": {
    "id": "d7RxQIkZNfYX"
   },
   "source": [
    "# Load Data"
   ]
  },
  {
   "cell_type": "markdown",
   "metadata": {
    "id": "gXG_FQlGNfYY"
   },
   "source": [
    "In the below code, you should read a CSV file named `training-svm.txt` using a pandas DataFrame. The `header=None` argument indicates that there is no header row in the txt file.\n",
    "\n",
    "You need to retrieve the feature matrix `x` and target vector `y` from the DataFrame `data`. `x` contains all columns excluding the last one which is assigned to `y` (assumed to be the target variable)."
   ]
  },
  {
   "cell_type": "code",
   "execution_count": 29,
   "metadata": {
    "id": "7lKxvNFANfYY"
   },
   "outputs": [
    {
     "name": "stdout",
     "output_type": "stream",
     "text": [
      "Number of features shape: (3823, 64)\n",
      "Number of labels shape: (3823,)\n"
     ]
    }
   ],
   "source": [
    "###### YOUR CODE STARTS HERE ##### (~ approx 3 line of code)\n",
    "data= pd.read_csv('training-svm.txt', header=None, encoding='ISO-8859-1')\n",
    "x = data.iloc[:, :-1]\n",
    "y = data.iloc[:,-1]\n",
    "###### YOUR CODE ENDS HERE #####\n",
    "print (f\"Number of features shape: {(x.shape)}\")\n",
    "print (f\"Number of labels shape: {(y.shape)}\")"
   ]
  },
  {
   "cell_type": "markdown",
   "metadata": {
    "id": "_rGtRVN5NfYY"
   },
   "source": [
    "**Expected Output for x shape and y shape**:\n",
    "<table style=\"width:15%\">\n",
    "  <tr>\n",
    "    <td>**x**</td>\n",
    "    <td> (3823, 64) </td>\n",
    "  </tr>\n",
    "  \n",
    "  <tr>\n",
    "    <td>**y**</td>\n",
    "    <td> (3823,) </td>\n",
    "  </tr>\n",
    "  \n",
    "</table>\n"
   ]
  },
  {
   "cell_type": "code",
   "execution_count": 30,
   "metadata": {
    "id": "m3WSd-NHNfYY"
   },
   "outputs": [
    {
     "name": "stdout",
     "output_type": "stream",
     "text": [
      "\n",
      "Your values are correct! Continue with the rest of your code.\n"
     ]
    }
   ],
   "source": [
    "assert x.shape == (3823, 64)\n",
    "assert y.shape == (3823,)\n",
    "\n",
    "print(\"\\nYour values are correct! Continue with the rest of your code.\")"
   ]
  },
  {
   "cell_type": "markdown",
   "metadata": {
    "id": "OK1flAzNNfYY"
   },
   "source": [
    "## SVM: Linear Kernel"
   ]
  },
  {
   "cell_type": "markdown",
   "metadata": {
    "id": "xagX5bgJNfYY"
   },
   "source": [
    "**Step 1.** In the below code, we will show you to apply linear SVM and how to define a dictionary `parameters` with hyperparameter values to be tested during grid search. In this case, it explores different values of the `regularization parameter` C (1, 10, and 100).\n",
    "\n",
    "`GridSearchCV` is used for hyperparameter tuning. It performs a search over the specified parameter grid (parameters) using `5-fold cross-validation`. It evaluates the model based on both `micro F1-score` and `accuracy`, selecting the best model based on accuracy for refitting."
   ]
  },
  {
   "cell_type": "code",
   "execution_count": 31,
   "metadata": {
    "id": "J97f4oOUNfYY"
   },
   "outputs": [
    {
     "name": "stdout",
     "output_type": "stream",
     "text": [
      "SVC(C=1, kernel='linear')\n",
      "0.9780292919960305\n"
     ]
    }
   ],
   "source": [
    "parameters = {'C':[1, 10, 100]}\n",
    "svc = SVC(kernel=\"linear\")\n",
    "clf = GridSearchCV(svc, parameters, scoring = ['f1_micro','accuracy'],return_train_score=True, cv=5, refit='accuracy')\n",
    "clf.fit(x, y)\n",
    "print(clf.best_estimator_)\n",
    "print(clf.best_score_)"
   ]
  },
  {
   "cell_type": "markdown",
   "metadata": {
    "id": "uk4KwI8cNfYY"
   },
   "source": [
    "**Expected Output for best estimator and best score**:\n",
    "<table style=\"width:40%\">\n",
    "  <tr>\n",
    "    <td>**best estimator**</td>\n",
    "    <td> SVC(C=1, kernel='linear') </td>\n",
    "  </tr>\n",
    "  \n",
    "  <tr>\n",
    "    <td>**best score**</td>\n",
    "    <td> 0.9780292919960305 </td>\n",
    "  </tr>\n",
    "  \n",
    "</table>\n"
   ]
  },
  {
   "cell_type": "markdown",
   "metadata": {
    "id": "ISrd1ZawNfYY"
   },
   "source": [
    "Below, you should print the result of running a grid search using GridSearchCV, Let's break down the key components:\n",
    "\n",
    "- `mean_fit_time` and `std_fit_time`: These represent the mean and standard deviation of the fit times for each combination of hyperparameters.\n",
    "\n",
    "- `mean_score_time` and `std_score_time`: These represent the mean and standard deviation of the score computation times for each combination of hyperparameters.\n",
    "\n",
    "- `param_C` and `params`: These show the hyperparameter values that were tested (in this case, different values of C for an SVM).\n",
    "\n",
    "- `split_test_f1_micro` and `split_train_f1_micro`: These show the micro F1 scores on the test and training sets for each split of the cross-validation. Micro F1 is a metric that considers the overall performance across all classes.\n",
    "\n",
    "- `mean_test_f1_micro` and `mean_train_f1_micro`: These show the mean micro F1 scores across all splits for the test and training sets.\n",
    "\n",
    "- `std_test_f1_micro` and `std_train_f1_micro`: These show the standard deviation of the micro F1 scores across all splits for the test and training sets.\n",
    "\n",
    "- `split_test_accuracy` and `split_train_accuracy`: These show the accuracy scores on the test and training sets for each split of the cross-validation.\n",
    "\n",
    "- `mean_test_accuracy` and `mean_train_accuracy`: These show the mean accuracy scores across all splits for the test and training sets.\n",
    "\n",
    "- `std_test_accuracy` and `std_train_accuracy`: These show the standard deviation of the accuracy scores across all splits for the test and training sets.\n",
    "\n",
    "- `rank_test_f1_micro` and `rank_test_accuracy`: These show the ranking of different hyperparameter combinations based on their performance in terms of micro F1 and accuracy, respectively."
   ]
  },
  {
   "cell_type": "code",
   "execution_count": 32,
   "metadata": {
    "id": "yC1XIBUdNfYY"
   },
   "outputs": [
    {
     "data": {
      "text/plain": [
       "{'mean_fit_time': array([0.14885316, 0.11561689, 0.12536421]),\n",
       " 'std_fit_time': array([0.05506133, 0.00765339, 0.00930367]),\n",
       " 'mean_score_time': array([0.03997641, 0.03437247, 0.04062319]),\n",
       " 'std_score_time': array([0.01080176, 0.00625019, 0.00765473]),\n",
       " 'param_C': masked_array(data=[1, 10, 100],\n",
       "              mask=[False, False, False],\n",
       "        fill_value='?',\n",
       "             dtype=object),\n",
       " 'params': [{'C': 1}, {'C': 10}, {'C': 100}],\n",
       " 'split0_test_f1_micro': array([0.98169935, 0.98169935, 0.98169935]),\n",
       " 'split1_test_f1_micro': array([0.97908497, 0.97908497, 0.97908497]),\n",
       " 'split2_test_f1_micro': array([0.96732026, 0.96732026, 0.96732026]),\n",
       " 'split3_test_f1_micro': array([0.98167539, 0.98167539, 0.98167539]),\n",
       " 'split4_test_f1_micro': array([0.98036649, 0.98036649, 0.98036649]),\n",
       " 'mean_test_f1_micro': array([0.97802929, 0.97802929, 0.97802929]),\n",
       " 'std_test_f1_micro': array([0.00544102, 0.00544102, 0.00544102]),\n",
       " 'rank_test_f1_micro': array([1, 1, 1]),\n",
       " 'split0_train_f1_micro': array([1., 1., 1.]),\n",
       " 'split1_train_f1_micro': array([1., 1., 1.]),\n",
       " 'split2_train_f1_micro': array([1., 1., 1.]),\n",
       " 'split3_train_f1_micro': array([1., 1., 1.]),\n",
       " 'split4_train_f1_micro': array([1., 1., 1.]),\n",
       " 'mean_train_f1_micro': array([1., 1., 1.]),\n",
       " 'std_train_f1_micro': array([0., 0., 0.]),\n",
       " 'split0_test_accuracy': array([0.98169935, 0.98169935, 0.98169935]),\n",
       " 'split1_test_accuracy': array([0.97908497, 0.97908497, 0.97908497]),\n",
       " 'split2_test_accuracy': array([0.96732026, 0.96732026, 0.96732026]),\n",
       " 'split3_test_accuracy': array([0.98167539, 0.98167539, 0.98167539]),\n",
       " 'split4_test_accuracy': array([0.98036649, 0.98036649, 0.98036649]),\n",
       " 'mean_test_accuracy': array([0.97802929, 0.97802929, 0.97802929]),\n",
       " 'std_test_accuracy': array([0.00544102, 0.00544102, 0.00544102]),\n",
       " 'rank_test_accuracy': array([1, 1, 1]),\n",
       " 'split0_train_accuracy': array([1., 1., 1.]),\n",
       " 'split1_train_accuracy': array([1., 1., 1.]),\n",
       " 'split2_train_accuracy': array([1., 1., 1.]),\n",
       " 'split3_train_accuracy': array([1., 1., 1.]),\n",
       " 'split4_train_accuracy': array([1., 1., 1.]),\n",
       " 'mean_train_accuracy': array([1., 1., 1.]),\n",
       " 'std_train_accuracy': array([0., 0., 0.])}"
      ]
     },
     "execution_count": 32,
     "metadata": {},
     "output_type": "execute_result"
    }
   ],
   "source": [
    "clf.cv_results_"
   ]
  },
  {
   "cell_type": "markdown",
   "metadata": {
    "id": "1oWzJWWqNfYY"
   },
   "source": [
    "**Step 2.** We report below the `mean_test_f1_micro` and the `mean_test_accuracy`"
   ]
  },
  {
   "cell_type": "code",
   "execution_count": 33,
   "metadata": {
    "id": "pPmWqKBpNfYZ"
   },
   "outputs": [
    {
     "name": "stdout",
     "output_type": "stream",
     "text": [
      "F-measure:  0.9780292919960305\n",
      "Accuracy :  0.9780292919960305\n"
     ]
    }
   ],
   "source": [
    "print(\"F-measure: \", clf.cv_results_['mean_test_f1_micro'][0])\n",
    "print(\"Accuracy : \", clf.cv_results_['mean_test_accuracy'][0])"
   ]
  },
  {
   "cell_type": "markdown",
   "metadata": {
    "id": "CVh98RzQNfYZ"
   },
   "source": [
    "**Step 3.** We retrain the SVM model using the best `C=1` parameter and report the number of support vectors"
   ]
  },
  {
   "cell_type": "code",
   "execution_count": 34,
   "metadata": {
    "id": "FMNiQ0fuNfYZ"
   },
   "outputs": [
    {
     "name": "stdout",
     "output_type": "stream",
     "text": [
      "Support Vectors=  561\n"
     ]
    }
   ],
   "source": [
    "svc = SVC(kernel=\"linear\",C=1)\n",
    "svc.fit(x,y)\n",
    "print(\"Support Vectors= \",len(svc.support_vectors_))"
   ]
  },
  {
   "cell_type": "markdown",
   "metadata": {
    "id": "bxHwWgCaNfYZ"
   },
   "source": [
    "## SVM : Polynomial Kernel"
   ]
  },
  {
   "cell_type": "markdown",
   "metadata": {
    "id": "mFwLpKgnNfYZ"
   },
   "source": [
    "In this part, you need to repeat **Step 1, Step 2** and **Step 3** using an `SVM` classifier with a `polynomial` kernel on your training data. You should set the values of the different hyperparameters using an exhaustive grid search with 5-fold cross-validation. Report your cross-validation accuracy and F-measure and the number of support vectors for the selected model."
   ]
  },
  {
   "cell_type": "markdown",
   "metadata": {
    "id": "rnbgxc_oNfYZ"
   },
   "source": [
    "**Step 1.** In the below code, apply a `polynomial` SVM and define a dictionary `parameters` with hyperparameter values to be tested during grid search."
   ]
  },
  {
   "cell_type": "code",
   "execution_count": 35,
   "metadata": {
    "id": "YrHfU3wKNfYZ"
   },
   "outputs": [
    {
     "name": "stdout",
     "output_type": "stream",
     "text": [
      "SVC(C=1, kernel='poly')\n",
      "0.9895370085206858\n"
     ]
    }
   ],
   "source": [
    "###### YOUR CODE STARTS HERE ##### (~ approx 4 line of code)\n",
    "parameters = {'C': [1,10,100]}\n",
    "svc = SVC(kernel = \"poly\")\n",
    "clf = GridSearchCV(svc, parameters, scoring = ['f1_micro','accuracy'],return_train_score=True, cv=5, refit='accuracy')\n",
    "clf.fit(x,y) #fit the gridsearchcv to the data\n",
    "###### YOUR CODE ENDS HERE #####\n",
    "print(clf.best_estimator_)\n",
    "print(clf.best_score_)"
   ]
  },
  {
   "cell_type": "markdown",
   "metadata": {
    "id": "-aaLIc5PNfYZ"
   },
   "source": [
    "**Step 2.** Report below the `mean_test_f1_micro` and the `mean_test_accuracy`"
   ]
  },
  {
   "cell_type": "code",
   "execution_count": 36,
   "metadata": {
    "id": "iESMQqkfNfYZ"
   },
   "outputs": [
    {
     "name": "stdout",
     "output_type": "stream",
     "text": [
      "F-measure:  0.9895370085206858\n",
      "Accuracy :  0.9895370085206858\n"
     ]
    }
   ],
   "source": [
    "###### YOUR CODE STARTS HERE ##### (~ approx 2 line of code)\n",
    "print(\"F-measure: \", clf.cv_results_['mean_test_f1_micro'][0])\n",
    "print(\"Accuracy : \", clf.cv_results_['mean_test_accuracy'][0])\n",
    "###### YOUR CODE ENDS HERE #####"
   ]
  },
  {
   "cell_type": "markdown",
   "metadata": {
    "id": "rXC7c6lvNfYZ"
   },
   "source": [
    "**Step 3.** Retrain the SVM model using the best parameters and report the number of support vectors"
   ]
  },
  {
   "cell_type": "code",
   "execution_count": 37,
   "metadata": {
    "id": "Cp6SMRfYNfYZ"
   },
   "outputs": [
    {
     "name": "stdout",
     "output_type": "stream",
     "text": [
      "Support Vectors=  760\n"
     ]
    }
   ],
   "source": [
    "###### YOUR CODE STARTS HERE ##### (~ approx 2 line of code)\n",
    "svc = SVC(kernel=\"poly\", C=1)\n",
    "svc.fit(x,y)\n",
    "###### YOUR CODE ENDS HERE #####\n",
    "print(\"Support Vectors= \",len(svc.support_vectors_))"
   ]
  },
  {
   "cell_type": "markdown",
   "metadata": {
    "id": "piXzxyxKNfYZ"
   },
   "source": [
    "## SVM: RBF Kernel"
   ]
  },
  {
   "cell_type": "markdown",
   "metadata": {
    "id": "smS8FnZWNfYZ"
   },
   "source": [
    "In this part, you need to repeat **Step 1, Step 2** and **Step 3** using an `SVM` classifier with a `RBF` kernel on your training data. You should set the values of the different hyperparameters using an exhaustive grid search with 5-fold cross-validation. Report your cross-validation accuracy and F-measure and the number of support vectors for the selected model."
   ]
  },
  {
   "cell_type": "markdown",
   "metadata": {
    "id": "Bv4mjYkzNfYZ"
   },
   "source": [
    "**Step 1.** In the below code, apply a `polynomial` SVM and define a dictionary `parameters` with hyperparameter values to be tested during grid search."
   ]
  },
  {
   "cell_type": "code",
   "execution_count": 38,
   "metadata": {
    "id": "KP1Lsw0DNfYa"
   },
   "outputs": [
    {
     "name": "stdout",
     "output_type": "stream",
     "text": [
      "SVC(C=10)\n",
      "0.9903216644423913\n"
     ]
    }
   ],
   "source": [
    "###### YOUR CODE STARTS HERE ##### (~ approx 4 line of code)\n",
    "parameters = {'C': [1,10,100]}\n",
    "svc = SVC(kernel=\"rbf\")\n",
    "clf = GridSearchCV(svc, parameters, scoring = ['f1_micro','accuracy'],return_train_score=True, cv=5, refit='accuracy')\n",
    "clf.fit(x,y)\n",
    "\n",
    "###### YOUR CODE ENDS HERE #####\n",
    "print(clf.best_estimator_)\n",
    "print(clf.best_score_)"
   ]
  },
  {
   "cell_type": "markdown",
   "metadata": {
    "id": "6kCFkeVpNfYa"
   },
   "source": [
    "**Step 2.** Report below the `mean_test_f1_micro` and the `mean_test_accuracy`"
   ]
  },
  {
   "cell_type": "code",
   "execution_count": 39,
   "metadata": {
    "id": "XP_dRb_JNfYa"
   },
   "outputs": [
    {
     "name": "stdout",
     "output_type": "stream",
     "text": [
      "F-measure:  0.9879687232659207\n",
      "Accuracy :  0.9879687232659207\n"
     ]
    }
   ],
   "source": [
    "###### YOUR CODE STARTS HERE ##### (~ approx 2 line of code)\n",
    "print(\"F-measure: \", clf.cv_results_['mean_test_f1_micro'][0])\n",
    "print(\"Accuracy : \", clf.cv_results_['mean_test_accuracy'][0])\n",
    "###### YOUR CODE ENDS HERE #####"
   ]
  },
  {
   "cell_type": "markdown",
   "metadata": {
    "id": "mfw6DfnaNfYa"
   },
   "source": [
    "**Step 3.** Retrain the SVM model using the best parameters and report the number of support vectors"
   ]
  },
  {
   "cell_type": "code",
   "execution_count": 40,
   "metadata": {
    "id": "B6EDTsA5NfYa"
   },
   "outputs": [
    {
     "name": "stdout",
     "output_type": "stream",
     "text": [
      "Support Vectors=  909\n"
     ]
    }
   ],
   "source": [
    "###### YOUR CODE STARTS HERE ##### (~ approx 2 line of code)\n",
    "svc = SVC(kernel=\"rbf\", C=10)\n",
    "svc.fit(x,y)\n",
    "###### YOUR CODE ENDS HERE #####\n",
    "print(\"Support Vectors= \",len(svc.support_vectors_))"
   ]
  }
 ],
 "metadata": {
  "colab": {
   "provenance": []
  },
  "kernelspec": {
   "display_name": "Python 3 (ipykernel)",
   "language": "python",
   "name": "python3"
  },
  "language_info": {
   "codemirror_mode": {
    "name": "ipython",
    "version": 3
   },
   "file_extension": ".py",
   "mimetype": "text/x-python",
   "name": "python",
   "nbconvert_exporter": "python",
   "pygments_lexer": "ipython3",
   "version": "3.12.4"
  }
 },
 "nbformat": 4,
 "nbformat_minor": 4
}
